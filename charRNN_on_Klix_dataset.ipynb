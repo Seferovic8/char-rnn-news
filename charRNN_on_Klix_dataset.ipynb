{
  "nbformat": 4,
  "nbformat_minor": 0,
  "metadata": {
    "colab": {
      "provenance": [],
      "gpuType": "T4"
    },
    "kernelspec": {
      "name": "python3",
      "display_name": "Python 3"
    },
    "language_info": {
      "name": "python"
    },
    "accelerator": "GPU",
    "widgets": {
      "application/vnd.jupyter.widget-state+json": {
        "2206ba1b666a446086b590b2b10b3598": {
          "model_module": "@jupyter-widgets/controls",
          "model_name": "HBoxModel",
          "model_module_version": "1.5.0",
          "state": {
            "_dom_classes": [],
            "_model_module": "@jupyter-widgets/controls",
            "_model_module_version": "1.5.0",
            "_model_name": "HBoxModel",
            "_view_count": null,
            "_view_module": "@jupyter-widgets/controls",
            "_view_module_version": "1.5.0",
            "_view_name": "HBoxView",
            "box_style": "",
            "children": [
              "IPY_MODEL_95ed4546be4141f0864735391344adff",
              "IPY_MODEL_99c58a9ff4ce4c55a8b2ea54cb1aa732",
              "IPY_MODEL_95b46f105d004d4ca285ef53f0abeb32"
            ],
            "layout": "IPY_MODEL_da9d3e213b224ef584432270bca26550"
          }
        },
        "95ed4546be4141f0864735391344adff": {
          "model_module": "@jupyter-widgets/controls",
          "model_name": "HTMLModel",
          "model_module_version": "1.5.0",
          "state": {
            "_dom_classes": [],
            "_model_module": "@jupyter-widgets/controls",
            "_model_module_version": "1.5.0",
            "_model_name": "HTMLModel",
            "_view_count": null,
            "_view_module": "@jupyter-widgets/controls",
            "_view_module_version": "1.5.0",
            "_view_name": "HTMLView",
            "description": "",
            "description_tooltip": null,
            "layout": "IPY_MODEL_dbf47fcaa37d491fadf7235057c15c9c",
            "placeholder": "​",
            "style": "IPY_MODEL_8511718d7479428294de3270d36b834a",
            "value": "README.md: 100%"
          }
        },
        "99c58a9ff4ce4c55a8b2ea54cb1aa732": {
          "model_module": "@jupyter-widgets/controls",
          "model_name": "FloatProgressModel",
          "model_module_version": "1.5.0",
          "state": {
            "_dom_classes": [],
            "_model_module": "@jupyter-widgets/controls",
            "_model_module_version": "1.5.0",
            "_model_name": "FloatProgressModel",
            "_view_count": null,
            "_view_module": "@jupyter-widgets/controls",
            "_view_module_version": "1.5.0",
            "_view_name": "ProgressView",
            "bar_style": "success",
            "description": "",
            "description_tooltip": null,
            "layout": "IPY_MODEL_892d64d96ebb49d1a5709b6f3784f531",
            "max": 2677,
            "min": 0,
            "orientation": "horizontal",
            "style": "IPY_MODEL_82c2c0a70c05452b9f3d039aa773b442",
            "value": 2677
          }
        },
        "95b46f105d004d4ca285ef53f0abeb32": {
          "model_module": "@jupyter-widgets/controls",
          "model_name": "HTMLModel",
          "model_module_version": "1.5.0",
          "state": {
            "_dom_classes": [],
            "_model_module": "@jupyter-widgets/controls",
            "_model_module_version": "1.5.0",
            "_model_name": "HTMLModel",
            "_view_count": null,
            "_view_module": "@jupyter-widgets/controls",
            "_view_module_version": "1.5.0",
            "_view_name": "HTMLView",
            "description": "",
            "description_tooltip": null,
            "layout": "IPY_MODEL_d1ffa616282c4d72a4a646c005f884de",
            "placeholder": "​",
            "style": "IPY_MODEL_55b86c3eec5d4a9f90aa34650dafc45d",
            "value": " 2.68k/2.68k [00:00&lt;00:00, 201kB/s]"
          }
        },
        "da9d3e213b224ef584432270bca26550": {
          "model_module": "@jupyter-widgets/base",
          "model_name": "LayoutModel",
          "model_module_version": "1.2.0",
          "state": {
            "_model_module": "@jupyter-widgets/base",
            "_model_module_version": "1.2.0",
            "_model_name": "LayoutModel",
            "_view_count": null,
            "_view_module": "@jupyter-widgets/base",
            "_view_module_version": "1.2.0",
            "_view_name": "LayoutView",
            "align_content": null,
            "align_items": null,
            "align_self": null,
            "border": null,
            "bottom": null,
            "display": null,
            "flex": null,
            "flex_flow": null,
            "grid_area": null,
            "grid_auto_columns": null,
            "grid_auto_flow": null,
            "grid_auto_rows": null,
            "grid_column": null,
            "grid_gap": null,
            "grid_row": null,
            "grid_template_areas": null,
            "grid_template_columns": null,
            "grid_template_rows": null,
            "height": null,
            "justify_content": null,
            "justify_items": null,
            "left": null,
            "margin": null,
            "max_height": null,
            "max_width": null,
            "min_height": null,
            "min_width": null,
            "object_fit": null,
            "object_position": null,
            "order": null,
            "overflow": null,
            "overflow_x": null,
            "overflow_y": null,
            "padding": null,
            "right": null,
            "top": null,
            "visibility": null,
            "width": null
          }
        },
        "dbf47fcaa37d491fadf7235057c15c9c": {
          "model_module": "@jupyter-widgets/base",
          "model_name": "LayoutModel",
          "model_module_version": "1.2.0",
          "state": {
            "_model_module": "@jupyter-widgets/base",
            "_model_module_version": "1.2.0",
            "_model_name": "LayoutModel",
            "_view_count": null,
            "_view_module": "@jupyter-widgets/base",
            "_view_module_version": "1.2.0",
            "_view_name": "LayoutView",
            "align_content": null,
            "align_items": null,
            "align_self": null,
            "border": null,
            "bottom": null,
            "display": null,
            "flex": null,
            "flex_flow": null,
            "grid_area": null,
            "grid_auto_columns": null,
            "grid_auto_flow": null,
            "grid_auto_rows": null,
            "grid_column": null,
            "grid_gap": null,
            "grid_row": null,
            "grid_template_areas": null,
            "grid_template_columns": null,
            "grid_template_rows": null,
            "height": null,
            "justify_content": null,
            "justify_items": null,
            "left": null,
            "margin": null,
            "max_height": null,
            "max_width": null,
            "min_height": null,
            "min_width": null,
            "object_fit": null,
            "object_position": null,
            "order": null,
            "overflow": null,
            "overflow_x": null,
            "overflow_y": null,
            "padding": null,
            "right": null,
            "top": null,
            "visibility": null,
            "width": null
          }
        },
        "8511718d7479428294de3270d36b834a": {
          "model_module": "@jupyter-widgets/controls",
          "model_name": "DescriptionStyleModel",
          "model_module_version": "1.5.0",
          "state": {
            "_model_module": "@jupyter-widgets/controls",
            "_model_module_version": "1.5.0",
            "_model_name": "DescriptionStyleModel",
            "_view_count": null,
            "_view_module": "@jupyter-widgets/base",
            "_view_module_version": "1.2.0",
            "_view_name": "StyleView",
            "description_width": ""
          }
        },
        "892d64d96ebb49d1a5709b6f3784f531": {
          "model_module": "@jupyter-widgets/base",
          "model_name": "LayoutModel",
          "model_module_version": "1.2.0",
          "state": {
            "_model_module": "@jupyter-widgets/base",
            "_model_module_version": "1.2.0",
            "_model_name": "LayoutModel",
            "_view_count": null,
            "_view_module": "@jupyter-widgets/base",
            "_view_module_version": "1.2.0",
            "_view_name": "LayoutView",
            "align_content": null,
            "align_items": null,
            "align_self": null,
            "border": null,
            "bottom": null,
            "display": null,
            "flex": null,
            "flex_flow": null,
            "grid_area": null,
            "grid_auto_columns": null,
            "grid_auto_flow": null,
            "grid_auto_rows": null,
            "grid_column": null,
            "grid_gap": null,
            "grid_row": null,
            "grid_template_areas": null,
            "grid_template_columns": null,
            "grid_template_rows": null,
            "height": null,
            "justify_content": null,
            "justify_items": null,
            "left": null,
            "margin": null,
            "max_height": null,
            "max_width": null,
            "min_height": null,
            "min_width": null,
            "object_fit": null,
            "object_position": null,
            "order": null,
            "overflow": null,
            "overflow_x": null,
            "overflow_y": null,
            "padding": null,
            "right": null,
            "top": null,
            "visibility": null,
            "width": null
          }
        },
        "82c2c0a70c05452b9f3d039aa773b442": {
          "model_module": "@jupyter-widgets/controls",
          "model_name": "ProgressStyleModel",
          "model_module_version": "1.5.0",
          "state": {
            "_model_module": "@jupyter-widgets/controls",
            "_model_module_version": "1.5.0",
            "_model_name": "ProgressStyleModel",
            "_view_count": null,
            "_view_module": "@jupyter-widgets/base",
            "_view_module_version": "1.2.0",
            "_view_name": "StyleView",
            "bar_color": null,
            "description_width": ""
          }
        },
        "d1ffa616282c4d72a4a646c005f884de": {
          "model_module": "@jupyter-widgets/base",
          "model_name": "LayoutModel",
          "model_module_version": "1.2.0",
          "state": {
            "_model_module": "@jupyter-widgets/base",
            "_model_module_version": "1.2.0",
            "_model_name": "LayoutModel",
            "_view_count": null,
            "_view_module": "@jupyter-widgets/base",
            "_view_module_version": "1.2.0",
            "_view_name": "LayoutView",
            "align_content": null,
            "align_items": null,
            "align_self": null,
            "border": null,
            "bottom": null,
            "display": null,
            "flex": null,
            "flex_flow": null,
            "grid_area": null,
            "grid_auto_columns": null,
            "grid_auto_flow": null,
            "grid_auto_rows": null,
            "grid_column": null,
            "grid_gap": null,
            "grid_row": null,
            "grid_template_areas": null,
            "grid_template_columns": null,
            "grid_template_rows": null,
            "height": null,
            "justify_content": null,
            "justify_items": null,
            "left": null,
            "margin": null,
            "max_height": null,
            "max_width": null,
            "min_height": null,
            "min_width": null,
            "object_fit": null,
            "object_position": null,
            "order": null,
            "overflow": null,
            "overflow_x": null,
            "overflow_y": null,
            "padding": null,
            "right": null,
            "top": null,
            "visibility": null,
            "width": null
          }
        },
        "55b86c3eec5d4a9f90aa34650dafc45d": {
          "model_module": "@jupyter-widgets/controls",
          "model_name": "DescriptionStyleModel",
          "model_module_version": "1.5.0",
          "state": {
            "_model_module": "@jupyter-widgets/controls",
            "_model_module_version": "1.5.0",
            "_model_name": "DescriptionStyleModel",
            "_view_count": null,
            "_view_module": "@jupyter-widgets/base",
            "_view_module_version": "1.2.0",
            "_view_name": "StyleView",
            "description_width": ""
          }
        },
        "c048231c4dec402cbc774b9744619477": {
          "model_module": "@jupyter-widgets/controls",
          "model_name": "HBoxModel",
          "model_module_version": "1.5.0",
          "state": {
            "_dom_classes": [],
            "_model_module": "@jupyter-widgets/controls",
            "_model_module_version": "1.5.0",
            "_model_name": "HBoxModel",
            "_view_count": null,
            "_view_module": "@jupyter-widgets/controls",
            "_view_module_version": "1.5.0",
            "_view_name": "HBoxView",
            "box_style": "",
            "children": [
              "IPY_MODEL_373a07e4413746a78f0d95778a68ed0b",
              "IPY_MODEL_513841dfc583490c8061c2b64a8fced6",
              "IPY_MODEL_3c44fccc469c40dc875f1373eb48a3d2"
            ],
            "layout": "IPY_MODEL_ac94d617a2684fd887371cf4bce09965"
          }
        },
        "373a07e4413746a78f0d95778a68ed0b": {
          "model_module": "@jupyter-widgets/controls",
          "model_name": "HTMLModel",
          "model_module_version": "1.5.0",
          "state": {
            "_dom_classes": [],
            "_model_module": "@jupyter-widgets/controls",
            "_model_module_version": "1.5.0",
            "_model_name": "HTMLModel",
            "_view_count": null,
            "_view_module": "@jupyter-widgets/controls",
            "_view_module_version": "1.5.0",
            "_view_name": "HTMLView",
            "description": "",
            "description_tooltip": null,
            "layout": "IPY_MODEL_a5eb30a0b4ef4f6896cdb27b3a059acb",
            "placeholder": "​",
            "style": "IPY_MODEL_c4eb03bc3ec3437e8f7a50d5c5b2ed3d",
            "value": "train-00000-of-00003.parquet: 100%"
          }
        },
        "513841dfc583490c8061c2b64a8fced6": {
          "model_module": "@jupyter-widgets/controls",
          "model_name": "FloatProgressModel",
          "model_module_version": "1.5.0",
          "state": {
            "_dom_classes": [],
            "_model_module": "@jupyter-widgets/controls",
            "_model_module_version": "1.5.0",
            "_model_name": "FloatProgressModel",
            "_view_count": null,
            "_view_module": "@jupyter-widgets/controls",
            "_view_module_version": "1.5.0",
            "_view_name": "ProgressView",
            "bar_style": "success",
            "description": "",
            "description_tooltip": null,
            "layout": "IPY_MODEL_4eb6a66c9a6d45a9b32ae25db1d380af",
            "max": 348284920,
            "min": 0,
            "orientation": "horizontal",
            "style": "IPY_MODEL_b936b4c011054feab2bcbdd345454515",
            "value": 348284920
          }
        },
        "3c44fccc469c40dc875f1373eb48a3d2": {
          "model_module": "@jupyter-widgets/controls",
          "model_name": "HTMLModel",
          "model_module_version": "1.5.0",
          "state": {
            "_dom_classes": [],
            "_model_module": "@jupyter-widgets/controls",
            "_model_module_version": "1.5.0",
            "_model_name": "HTMLModel",
            "_view_count": null,
            "_view_module": "@jupyter-widgets/controls",
            "_view_module_version": "1.5.0",
            "_view_name": "HTMLView",
            "description": "",
            "description_tooltip": null,
            "layout": "IPY_MODEL_20232df3c998486183b2aa77342cfa74",
            "placeholder": "​",
            "style": "IPY_MODEL_947042bacca24322abf35219eee941d0",
            "value": " 348M/348M [00:01&lt;00:00, 188MB/s]"
          }
        },
        "ac94d617a2684fd887371cf4bce09965": {
          "model_module": "@jupyter-widgets/base",
          "model_name": "LayoutModel",
          "model_module_version": "1.2.0",
          "state": {
            "_model_module": "@jupyter-widgets/base",
            "_model_module_version": "1.2.0",
            "_model_name": "LayoutModel",
            "_view_count": null,
            "_view_module": "@jupyter-widgets/base",
            "_view_module_version": "1.2.0",
            "_view_name": "LayoutView",
            "align_content": null,
            "align_items": null,
            "align_self": null,
            "border": null,
            "bottom": null,
            "display": null,
            "flex": null,
            "flex_flow": null,
            "grid_area": null,
            "grid_auto_columns": null,
            "grid_auto_flow": null,
            "grid_auto_rows": null,
            "grid_column": null,
            "grid_gap": null,
            "grid_row": null,
            "grid_template_areas": null,
            "grid_template_columns": null,
            "grid_template_rows": null,
            "height": null,
            "justify_content": null,
            "justify_items": null,
            "left": null,
            "margin": null,
            "max_height": null,
            "max_width": null,
            "min_height": null,
            "min_width": null,
            "object_fit": null,
            "object_position": null,
            "order": null,
            "overflow": null,
            "overflow_x": null,
            "overflow_y": null,
            "padding": null,
            "right": null,
            "top": null,
            "visibility": null,
            "width": null
          }
        },
        "a5eb30a0b4ef4f6896cdb27b3a059acb": {
          "model_module": "@jupyter-widgets/base",
          "model_name": "LayoutModel",
          "model_module_version": "1.2.0",
          "state": {
            "_model_module": "@jupyter-widgets/base",
            "_model_module_version": "1.2.0",
            "_model_name": "LayoutModel",
            "_view_count": null,
            "_view_module": "@jupyter-widgets/base",
            "_view_module_version": "1.2.0",
            "_view_name": "LayoutView",
            "align_content": null,
            "align_items": null,
            "align_self": null,
            "border": null,
            "bottom": null,
            "display": null,
            "flex": null,
            "flex_flow": null,
            "grid_area": null,
            "grid_auto_columns": null,
            "grid_auto_flow": null,
            "grid_auto_rows": null,
            "grid_column": null,
            "grid_gap": null,
            "grid_row": null,
            "grid_template_areas": null,
            "grid_template_columns": null,
            "grid_template_rows": null,
            "height": null,
            "justify_content": null,
            "justify_items": null,
            "left": null,
            "margin": null,
            "max_height": null,
            "max_width": null,
            "min_height": null,
            "min_width": null,
            "object_fit": null,
            "object_position": null,
            "order": null,
            "overflow": null,
            "overflow_x": null,
            "overflow_y": null,
            "padding": null,
            "right": null,
            "top": null,
            "visibility": null,
            "width": null
          }
        },
        "c4eb03bc3ec3437e8f7a50d5c5b2ed3d": {
          "model_module": "@jupyter-widgets/controls",
          "model_name": "DescriptionStyleModel",
          "model_module_version": "1.5.0",
          "state": {
            "_model_module": "@jupyter-widgets/controls",
            "_model_module_version": "1.5.0",
            "_model_name": "DescriptionStyleModel",
            "_view_count": null,
            "_view_module": "@jupyter-widgets/base",
            "_view_module_version": "1.2.0",
            "_view_name": "StyleView",
            "description_width": ""
          }
        },
        "4eb6a66c9a6d45a9b32ae25db1d380af": {
          "model_module": "@jupyter-widgets/base",
          "model_name": "LayoutModel",
          "model_module_version": "1.2.0",
          "state": {
            "_model_module": "@jupyter-widgets/base",
            "_model_module_version": "1.2.0",
            "_model_name": "LayoutModel",
            "_view_count": null,
            "_view_module": "@jupyter-widgets/base",
            "_view_module_version": "1.2.0",
            "_view_name": "LayoutView",
            "align_content": null,
            "align_items": null,
            "align_self": null,
            "border": null,
            "bottom": null,
            "display": null,
            "flex": null,
            "flex_flow": null,
            "grid_area": null,
            "grid_auto_columns": null,
            "grid_auto_flow": null,
            "grid_auto_rows": null,
            "grid_column": null,
            "grid_gap": null,
            "grid_row": null,
            "grid_template_areas": null,
            "grid_template_columns": null,
            "grid_template_rows": null,
            "height": null,
            "justify_content": null,
            "justify_items": null,
            "left": null,
            "margin": null,
            "max_height": null,
            "max_width": null,
            "min_height": null,
            "min_width": null,
            "object_fit": null,
            "object_position": null,
            "order": null,
            "overflow": null,
            "overflow_x": null,
            "overflow_y": null,
            "padding": null,
            "right": null,
            "top": null,
            "visibility": null,
            "width": null
          }
        },
        "b936b4c011054feab2bcbdd345454515": {
          "model_module": "@jupyter-widgets/controls",
          "model_name": "ProgressStyleModel",
          "model_module_version": "1.5.0",
          "state": {
            "_model_module": "@jupyter-widgets/controls",
            "_model_module_version": "1.5.0",
            "_model_name": "ProgressStyleModel",
            "_view_count": null,
            "_view_module": "@jupyter-widgets/base",
            "_view_module_version": "1.2.0",
            "_view_name": "StyleView",
            "bar_color": null,
            "description_width": ""
          }
        },
        "20232df3c998486183b2aa77342cfa74": {
          "model_module": "@jupyter-widgets/base",
          "model_name": "LayoutModel",
          "model_module_version": "1.2.0",
          "state": {
            "_model_module": "@jupyter-widgets/base",
            "_model_module_version": "1.2.0",
            "_model_name": "LayoutModel",
            "_view_count": null,
            "_view_module": "@jupyter-widgets/base",
            "_view_module_version": "1.2.0",
            "_view_name": "LayoutView",
            "align_content": null,
            "align_items": null,
            "align_self": null,
            "border": null,
            "bottom": null,
            "display": null,
            "flex": null,
            "flex_flow": null,
            "grid_area": null,
            "grid_auto_columns": null,
            "grid_auto_flow": null,
            "grid_auto_rows": null,
            "grid_column": null,
            "grid_gap": null,
            "grid_row": null,
            "grid_template_areas": null,
            "grid_template_columns": null,
            "grid_template_rows": null,
            "height": null,
            "justify_content": null,
            "justify_items": null,
            "left": null,
            "margin": null,
            "max_height": null,
            "max_width": null,
            "min_height": null,
            "min_width": null,
            "object_fit": null,
            "object_position": null,
            "order": null,
            "overflow": null,
            "overflow_x": null,
            "overflow_y": null,
            "padding": null,
            "right": null,
            "top": null,
            "visibility": null,
            "width": null
          }
        },
        "947042bacca24322abf35219eee941d0": {
          "model_module": "@jupyter-widgets/controls",
          "model_name": "DescriptionStyleModel",
          "model_module_version": "1.5.0",
          "state": {
            "_model_module": "@jupyter-widgets/controls",
            "_model_module_version": "1.5.0",
            "_model_name": "DescriptionStyleModel",
            "_view_count": null,
            "_view_module": "@jupyter-widgets/base",
            "_view_module_version": "1.2.0",
            "_view_name": "StyleView",
            "description_width": ""
          }
        },
        "e5cffde1cc514e57b0fac5f0cd81b9a3": {
          "model_module": "@jupyter-widgets/controls",
          "model_name": "HBoxModel",
          "model_module_version": "1.5.0",
          "state": {
            "_dom_classes": [],
            "_model_module": "@jupyter-widgets/controls",
            "_model_module_version": "1.5.0",
            "_model_name": "HBoxModel",
            "_view_count": null,
            "_view_module": "@jupyter-widgets/controls",
            "_view_module_version": "1.5.0",
            "_view_name": "HBoxView",
            "box_style": "",
            "children": [
              "IPY_MODEL_12fca07723524b788e2fc9b9a0372a50",
              "IPY_MODEL_a4ff75efadc14e3c9638c0cf8dbef7f3",
              "IPY_MODEL_c91a1a1c376f42b1ad4c30c529c01e16"
            ],
            "layout": "IPY_MODEL_972c20a4a189472c84135224fa4d8dcd"
          }
        },
        "12fca07723524b788e2fc9b9a0372a50": {
          "model_module": "@jupyter-widgets/controls",
          "model_name": "HTMLModel",
          "model_module_version": "1.5.0",
          "state": {
            "_dom_classes": [],
            "_model_module": "@jupyter-widgets/controls",
            "_model_module_version": "1.5.0",
            "_model_name": "HTMLModel",
            "_view_count": null,
            "_view_module": "@jupyter-widgets/controls",
            "_view_module_version": "1.5.0",
            "_view_name": "HTMLView",
            "description": "",
            "description_tooltip": null,
            "layout": "IPY_MODEL_ba2b25fb83834c9194becfa211472dfa",
            "placeholder": "​",
            "style": "IPY_MODEL_62b61c19b936479484b15e2a445725ec",
            "value": "train-00001-of-00003.parquet: 100%"
          }
        },
        "a4ff75efadc14e3c9638c0cf8dbef7f3": {
          "model_module": "@jupyter-widgets/controls",
          "model_name": "FloatProgressModel",
          "model_module_version": "1.5.0",
          "state": {
            "_dom_classes": [],
            "_model_module": "@jupyter-widgets/controls",
            "_model_module_version": "1.5.0",
            "_model_name": "FloatProgressModel",
            "_view_count": null,
            "_view_module": "@jupyter-widgets/controls",
            "_view_module_version": "1.5.0",
            "_view_name": "ProgressView",
            "bar_style": "success",
            "description": "",
            "description_tooltip": null,
            "layout": "IPY_MODEL_bf169c2ee2ea466086a31c5d3d68e2bd",
            "max": 310042533,
            "min": 0,
            "orientation": "horizontal",
            "style": "IPY_MODEL_3630fe24ec784fae9c4d0833bbe94899",
            "value": 310042533
          }
        },
        "c91a1a1c376f42b1ad4c30c529c01e16": {
          "model_module": "@jupyter-widgets/controls",
          "model_name": "HTMLModel",
          "model_module_version": "1.5.0",
          "state": {
            "_dom_classes": [],
            "_model_module": "@jupyter-widgets/controls",
            "_model_module_version": "1.5.0",
            "_model_name": "HTMLModel",
            "_view_count": null,
            "_view_module": "@jupyter-widgets/controls",
            "_view_module_version": "1.5.0",
            "_view_name": "HTMLView",
            "description": "",
            "description_tooltip": null,
            "layout": "IPY_MODEL_2a1a5df7aeb44811ac154116e161fdf5",
            "placeholder": "​",
            "style": "IPY_MODEL_f5652b57d9744260b17366383fb64b80",
            "value": " 310M/310M [00:01&lt;00:00, 242MB/s]"
          }
        },
        "972c20a4a189472c84135224fa4d8dcd": {
          "model_module": "@jupyter-widgets/base",
          "model_name": "LayoutModel",
          "model_module_version": "1.2.0",
          "state": {
            "_model_module": "@jupyter-widgets/base",
            "_model_module_version": "1.2.0",
            "_model_name": "LayoutModel",
            "_view_count": null,
            "_view_module": "@jupyter-widgets/base",
            "_view_module_version": "1.2.0",
            "_view_name": "LayoutView",
            "align_content": null,
            "align_items": null,
            "align_self": null,
            "border": null,
            "bottom": null,
            "display": null,
            "flex": null,
            "flex_flow": null,
            "grid_area": null,
            "grid_auto_columns": null,
            "grid_auto_flow": null,
            "grid_auto_rows": null,
            "grid_column": null,
            "grid_gap": null,
            "grid_row": null,
            "grid_template_areas": null,
            "grid_template_columns": null,
            "grid_template_rows": null,
            "height": null,
            "justify_content": null,
            "justify_items": null,
            "left": null,
            "margin": null,
            "max_height": null,
            "max_width": null,
            "min_height": null,
            "min_width": null,
            "object_fit": null,
            "object_position": null,
            "order": null,
            "overflow": null,
            "overflow_x": null,
            "overflow_y": null,
            "padding": null,
            "right": null,
            "top": null,
            "visibility": null,
            "width": null
          }
        },
        "ba2b25fb83834c9194becfa211472dfa": {
          "model_module": "@jupyter-widgets/base",
          "model_name": "LayoutModel",
          "model_module_version": "1.2.0",
          "state": {
            "_model_module": "@jupyter-widgets/base",
            "_model_module_version": "1.2.0",
            "_model_name": "LayoutModel",
            "_view_count": null,
            "_view_module": "@jupyter-widgets/base",
            "_view_module_version": "1.2.0",
            "_view_name": "LayoutView",
            "align_content": null,
            "align_items": null,
            "align_self": null,
            "border": null,
            "bottom": null,
            "display": null,
            "flex": null,
            "flex_flow": null,
            "grid_area": null,
            "grid_auto_columns": null,
            "grid_auto_flow": null,
            "grid_auto_rows": null,
            "grid_column": null,
            "grid_gap": null,
            "grid_row": null,
            "grid_template_areas": null,
            "grid_template_columns": null,
            "grid_template_rows": null,
            "height": null,
            "justify_content": null,
            "justify_items": null,
            "left": null,
            "margin": null,
            "max_height": null,
            "max_width": null,
            "min_height": null,
            "min_width": null,
            "object_fit": null,
            "object_position": null,
            "order": null,
            "overflow": null,
            "overflow_x": null,
            "overflow_y": null,
            "padding": null,
            "right": null,
            "top": null,
            "visibility": null,
            "width": null
          }
        },
        "62b61c19b936479484b15e2a445725ec": {
          "model_module": "@jupyter-widgets/controls",
          "model_name": "DescriptionStyleModel",
          "model_module_version": "1.5.0",
          "state": {
            "_model_module": "@jupyter-widgets/controls",
            "_model_module_version": "1.5.0",
            "_model_name": "DescriptionStyleModel",
            "_view_count": null,
            "_view_module": "@jupyter-widgets/base",
            "_view_module_version": "1.2.0",
            "_view_name": "StyleView",
            "description_width": ""
          }
        },
        "bf169c2ee2ea466086a31c5d3d68e2bd": {
          "model_module": "@jupyter-widgets/base",
          "model_name": "LayoutModel",
          "model_module_version": "1.2.0",
          "state": {
            "_model_module": "@jupyter-widgets/base",
            "_model_module_version": "1.2.0",
            "_model_name": "LayoutModel",
            "_view_count": null,
            "_view_module": "@jupyter-widgets/base",
            "_view_module_version": "1.2.0",
            "_view_name": "LayoutView",
            "align_content": null,
            "align_items": null,
            "align_self": null,
            "border": null,
            "bottom": null,
            "display": null,
            "flex": null,
            "flex_flow": null,
            "grid_area": null,
            "grid_auto_columns": null,
            "grid_auto_flow": null,
            "grid_auto_rows": null,
            "grid_column": null,
            "grid_gap": null,
            "grid_row": null,
            "grid_template_areas": null,
            "grid_template_columns": null,
            "grid_template_rows": null,
            "height": null,
            "justify_content": null,
            "justify_items": null,
            "left": null,
            "margin": null,
            "max_height": null,
            "max_width": null,
            "min_height": null,
            "min_width": null,
            "object_fit": null,
            "object_position": null,
            "order": null,
            "overflow": null,
            "overflow_x": null,
            "overflow_y": null,
            "padding": null,
            "right": null,
            "top": null,
            "visibility": null,
            "width": null
          }
        },
        "3630fe24ec784fae9c4d0833bbe94899": {
          "model_module": "@jupyter-widgets/controls",
          "model_name": "ProgressStyleModel",
          "model_module_version": "1.5.0",
          "state": {
            "_model_module": "@jupyter-widgets/controls",
            "_model_module_version": "1.5.0",
            "_model_name": "ProgressStyleModel",
            "_view_count": null,
            "_view_module": "@jupyter-widgets/base",
            "_view_module_version": "1.2.0",
            "_view_name": "StyleView",
            "bar_color": null,
            "description_width": ""
          }
        },
        "2a1a5df7aeb44811ac154116e161fdf5": {
          "model_module": "@jupyter-widgets/base",
          "model_name": "LayoutModel",
          "model_module_version": "1.2.0",
          "state": {
            "_model_module": "@jupyter-widgets/base",
            "_model_module_version": "1.2.0",
            "_model_name": "LayoutModel",
            "_view_count": null,
            "_view_module": "@jupyter-widgets/base",
            "_view_module_version": "1.2.0",
            "_view_name": "LayoutView",
            "align_content": null,
            "align_items": null,
            "align_self": null,
            "border": null,
            "bottom": null,
            "display": null,
            "flex": null,
            "flex_flow": null,
            "grid_area": null,
            "grid_auto_columns": null,
            "grid_auto_flow": null,
            "grid_auto_rows": null,
            "grid_column": null,
            "grid_gap": null,
            "grid_row": null,
            "grid_template_areas": null,
            "grid_template_columns": null,
            "grid_template_rows": null,
            "height": null,
            "justify_content": null,
            "justify_items": null,
            "left": null,
            "margin": null,
            "max_height": null,
            "max_width": null,
            "min_height": null,
            "min_width": null,
            "object_fit": null,
            "object_position": null,
            "order": null,
            "overflow": null,
            "overflow_x": null,
            "overflow_y": null,
            "padding": null,
            "right": null,
            "top": null,
            "visibility": null,
            "width": null
          }
        },
        "f5652b57d9744260b17366383fb64b80": {
          "model_module": "@jupyter-widgets/controls",
          "model_name": "DescriptionStyleModel",
          "model_module_version": "1.5.0",
          "state": {
            "_model_module": "@jupyter-widgets/controls",
            "_model_module_version": "1.5.0",
            "_model_name": "DescriptionStyleModel",
            "_view_count": null,
            "_view_module": "@jupyter-widgets/base",
            "_view_module_version": "1.2.0",
            "_view_name": "StyleView",
            "description_width": ""
          }
        },
        "dc1e4454e86e48d7b94b09681ee28601": {
          "model_module": "@jupyter-widgets/controls",
          "model_name": "HBoxModel",
          "model_module_version": "1.5.0",
          "state": {
            "_dom_classes": [],
            "_model_module": "@jupyter-widgets/controls",
            "_model_module_version": "1.5.0",
            "_model_name": "HBoxModel",
            "_view_count": null,
            "_view_module": "@jupyter-widgets/controls",
            "_view_module_version": "1.5.0",
            "_view_name": "HBoxView",
            "box_style": "",
            "children": [
              "IPY_MODEL_95e1396c39ba4700894b5c84f3937a25",
              "IPY_MODEL_e61a111004214c53b81558d5eda1eadd",
              "IPY_MODEL_62055b59713343cbbb17f7fd27b1dc23"
            ],
            "layout": "IPY_MODEL_d71dbfbc6ba943819822934b08492b18"
          }
        },
        "95e1396c39ba4700894b5c84f3937a25": {
          "model_module": "@jupyter-widgets/controls",
          "model_name": "HTMLModel",
          "model_module_version": "1.5.0",
          "state": {
            "_dom_classes": [],
            "_model_module": "@jupyter-widgets/controls",
            "_model_module_version": "1.5.0",
            "_model_name": "HTMLModel",
            "_view_count": null,
            "_view_module": "@jupyter-widgets/controls",
            "_view_module_version": "1.5.0",
            "_view_name": "HTMLView",
            "description": "",
            "description_tooltip": null,
            "layout": "IPY_MODEL_8da2c98378524d0198bf6bdff1bba786",
            "placeholder": "​",
            "style": "IPY_MODEL_7ed78add0cc4472cb2d8fb65d8e3685f",
            "value": "train-00002-of-00003.parquet: 100%"
          }
        },
        "e61a111004214c53b81558d5eda1eadd": {
          "model_module": "@jupyter-widgets/controls",
          "model_name": "FloatProgressModel",
          "model_module_version": "1.5.0",
          "state": {
            "_dom_classes": [],
            "_model_module": "@jupyter-widgets/controls",
            "_model_module_version": "1.5.0",
            "_model_name": "FloatProgressModel",
            "_view_count": null,
            "_view_module": "@jupyter-widgets/controls",
            "_view_module_version": "1.5.0",
            "_view_name": "ProgressView",
            "bar_style": "success",
            "description": "",
            "description_tooltip": null,
            "layout": "IPY_MODEL_0878624bd9c14f2db77fc0383655a441",
            "max": 255318160,
            "min": 0,
            "orientation": "horizontal",
            "style": "IPY_MODEL_121e929da053447aacb4ed7685772ba4",
            "value": 255318160
          }
        },
        "62055b59713343cbbb17f7fd27b1dc23": {
          "model_module": "@jupyter-widgets/controls",
          "model_name": "HTMLModel",
          "model_module_version": "1.5.0",
          "state": {
            "_dom_classes": [],
            "_model_module": "@jupyter-widgets/controls",
            "_model_module_version": "1.5.0",
            "_model_name": "HTMLModel",
            "_view_count": null,
            "_view_module": "@jupyter-widgets/controls",
            "_view_module_version": "1.5.0",
            "_view_name": "HTMLView",
            "description": "",
            "description_tooltip": null,
            "layout": "IPY_MODEL_fdee7c9cd783498c8a9663b3cb6e5ba8",
            "placeholder": "​",
            "style": "IPY_MODEL_cee6b473f3274f65bd2e37f2d2ff2803",
            "value": " 255M/255M [00:01&lt;00:00, 244MB/s]"
          }
        },
        "d71dbfbc6ba943819822934b08492b18": {
          "model_module": "@jupyter-widgets/base",
          "model_name": "LayoutModel",
          "model_module_version": "1.2.0",
          "state": {
            "_model_module": "@jupyter-widgets/base",
            "_model_module_version": "1.2.0",
            "_model_name": "LayoutModel",
            "_view_count": null,
            "_view_module": "@jupyter-widgets/base",
            "_view_module_version": "1.2.0",
            "_view_name": "LayoutView",
            "align_content": null,
            "align_items": null,
            "align_self": null,
            "border": null,
            "bottom": null,
            "display": null,
            "flex": null,
            "flex_flow": null,
            "grid_area": null,
            "grid_auto_columns": null,
            "grid_auto_flow": null,
            "grid_auto_rows": null,
            "grid_column": null,
            "grid_gap": null,
            "grid_row": null,
            "grid_template_areas": null,
            "grid_template_columns": null,
            "grid_template_rows": null,
            "height": null,
            "justify_content": null,
            "justify_items": null,
            "left": null,
            "margin": null,
            "max_height": null,
            "max_width": null,
            "min_height": null,
            "min_width": null,
            "object_fit": null,
            "object_position": null,
            "order": null,
            "overflow": null,
            "overflow_x": null,
            "overflow_y": null,
            "padding": null,
            "right": null,
            "top": null,
            "visibility": null,
            "width": null
          }
        },
        "8da2c98378524d0198bf6bdff1bba786": {
          "model_module": "@jupyter-widgets/base",
          "model_name": "LayoutModel",
          "model_module_version": "1.2.0",
          "state": {
            "_model_module": "@jupyter-widgets/base",
            "_model_module_version": "1.2.0",
            "_model_name": "LayoutModel",
            "_view_count": null,
            "_view_module": "@jupyter-widgets/base",
            "_view_module_version": "1.2.0",
            "_view_name": "LayoutView",
            "align_content": null,
            "align_items": null,
            "align_self": null,
            "border": null,
            "bottom": null,
            "display": null,
            "flex": null,
            "flex_flow": null,
            "grid_area": null,
            "grid_auto_columns": null,
            "grid_auto_flow": null,
            "grid_auto_rows": null,
            "grid_column": null,
            "grid_gap": null,
            "grid_row": null,
            "grid_template_areas": null,
            "grid_template_columns": null,
            "grid_template_rows": null,
            "height": null,
            "justify_content": null,
            "justify_items": null,
            "left": null,
            "margin": null,
            "max_height": null,
            "max_width": null,
            "min_height": null,
            "min_width": null,
            "object_fit": null,
            "object_position": null,
            "order": null,
            "overflow": null,
            "overflow_x": null,
            "overflow_y": null,
            "padding": null,
            "right": null,
            "top": null,
            "visibility": null,
            "width": null
          }
        },
        "7ed78add0cc4472cb2d8fb65d8e3685f": {
          "model_module": "@jupyter-widgets/controls",
          "model_name": "DescriptionStyleModel",
          "model_module_version": "1.5.0",
          "state": {
            "_model_module": "@jupyter-widgets/controls",
            "_model_module_version": "1.5.0",
            "_model_name": "DescriptionStyleModel",
            "_view_count": null,
            "_view_module": "@jupyter-widgets/base",
            "_view_module_version": "1.2.0",
            "_view_name": "StyleView",
            "description_width": ""
          }
        },
        "0878624bd9c14f2db77fc0383655a441": {
          "model_module": "@jupyter-widgets/base",
          "model_name": "LayoutModel",
          "model_module_version": "1.2.0",
          "state": {
            "_model_module": "@jupyter-widgets/base",
            "_model_module_version": "1.2.0",
            "_model_name": "LayoutModel",
            "_view_count": null,
            "_view_module": "@jupyter-widgets/base",
            "_view_module_version": "1.2.0",
            "_view_name": "LayoutView",
            "align_content": null,
            "align_items": null,
            "align_self": null,
            "border": null,
            "bottom": null,
            "display": null,
            "flex": null,
            "flex_flow": null,
            "grid_area": null,
            "grid_auto_columns": null,
            "grid_auto_flow": null,
            "grid_auto_rows": null,
            "grid_column": null,
            "grid_gap": null,
            "grid_row": null,
            "grid_template_areas": null,
            "grid_template_columns": null,
            "grid_template_rows": null,
            "height": null,
            "justify_content": null,
            "justify_items": null,
            "left": null,
            "margin": null,
            "max_height": null,
            "max_width": null,
            "min_height": null,
            "min_width": null,
            "object_fit": null,
            "object_position": null,
            "order": null,
            "overflow": null,
            "overflow_x": null,
            "overflow_y": null,
            "padding": null,
            "right": null,
            "top": null,
            "visibility": null,
            "width": null
          }
        },
        "121e929da053447aacb4ed7685772ba4": {
          "model_module": "@jupyter-widgets/controls",
          "model_name": "ProgressStyleModel",
          "model_module_version": "1.5.0",
          "state": {
            "_model_module": "@jupyter-widgets/controls",
            "_model_module_version": "1.5.0",
            "_model_name": "ProgressStyleModel",
            "_view_count": null,
            "_view_module": "@jupyter-widgets/base",
            "_view_module_version": "1.2.0",
            "_view_name": "StyleView",
            "bar_color": null,
            "description_width": ""
          }
        },
        "fdee7c9cd783498c8a9663b3cb6e5ba8": {
          "model_module": "@jupyter-widgets/base",
          "model_name": "LayoutModel",
          "model_module_version": "1.2.0",
          "state": {
            "_model_module": "@jupyter-widgets/base",
            "_model_module_version": "1.2.0",
            "_model_name": "LayoutModel",
            "_view_count": null,
            "_view_module": "@jupyter-widgets/base",
            "_view_module_version": "1.2.0",
            "_view_name": "LayoutView",
            "align_content": null,
            "align_items": null,
            "align_self": null,
            "border": null,
            "bottom": null,
            "display": null,
            "flex": null,
            "flex_flow": null,
            "grid_area": null,
            "grid_auto_columns": null,
            "grid_auto_flow": null,
            "grid_auto_rows": null,
            "grid_column": null,
            "grid_gap": null,
            "grid_row": null,
            "grid_template_areas": null,
            "grid_template_columns": null,
            "grid_template_rows": null,
            "height": null,
            "justify_content": null,
            "justify_items": null,
            "left": null,
            "margin": null,
            "max_height": null,
            "max_width": null,
            "min_height": null,
            "min_width": null,
            "object_fit": null,
            "object_position": null,
            "order": null,
            "overflow": null,
            "overflow_x": null,
            "overflow_y": null,
            "padding": null,
            "right": null,
            "top": null,
            "visibility": null,
            "width": null
          }
        },
        "cee6b473f3274f65bd2e37f2d2ff2803": {
          "model_module": "@jupyter-widgets/controls",
          "model_name": "DescriptionStyleModel",
          "model_module_version": "1.5.0",
          "state": {
            "_model_module": "@jupyter-widgets/controls",
            "_model_module_version": "1.5.0",
            "_model_name": "DescriptionStyleModel",
            "_view_count": null,
            "_view_module": "@jupyter-widgets/base",
            "_view_module_version": "1.2.0",
            "_view_name": "StyleView",
            "description_width": ""
          }
        },
        "8b351e8dda85417bad81b4d0c17d8376": {
          "model_module": "@jupyter-widgets/controls",
          "model_name": "HBoxModel",
          "model_module_version": "1.5.0",
          "state": {
            "_dom_classes": [],
            "_model_module": "@jupyter-widgets/controls",
            "_model_module_version": "1.5.0",
            "_model_name": "HBoxModel",
            "_view_count": null,
            "_view_module": "@jupyter-widgets/controls",
            "_view_module_version": "1.5.0",
            "_view_name": "HBoxView",
            "box_style": "",
            "children": [
              "IPY_MODEL_3a59d5218db845afaec229e48ebb0272",
              "IPY_MODEL_e4f23ab07712419a8df9c26b5cc998ea",
              "IPY_MODEL_36d4bd79b9e9436991a068d81651d117"
            ],
            "layout": "IPY_MODEL_d71e44ce220241c5a6fe23a90255e43c"
          }
        },
        "3a59d5218db845afaec229e48ebb0272": {
          "model_module": "@jupyter-widgets/controls",
          "model_name": "HTMLModel",
          "model_module_version": "1.5.0",
          "state": {
            "_dom_classes": [],
            "_model_module": "@jupyter-widgets/controls",
            "_model_module_version": "1.5.0",
            "_model_name": "HTMLModel",
            "_view_count": null,
            "_view_module": "@jupyter-widgets/controls",
            "_view_module_version": "1.5.0",
            "_view_name": "HTMLView",
            "description": "",
            "description_tooltip": null,
            "layout": "IPY_MODEL_c921d4522a464e62b4f840a4b3b30142",
            "placeholder": "​",
            "style": "IPY_MODEL_f1b5d3a1dab3495d8139c4700009ec87",
            "value": "Generating train split: 100%"
          }
        },
        "e4f23ab07712419a8df9c26b5cc998ea": {
          "model_module": "@jupyter-widgets/controls",
          "model_name": "FloatProgressModel",
          "model_module_version": "1.5.0",
          "state": {
            "_dom_classes": [],
            "_model_module": "@jupyter-widgets/controls",
            "_model_module_version": "1.5.0",
            "_model_name": "FloatProgressModel",
            "_view_count": null,
            "_view_module": "@jupyter-widgets/controls",
            "_view_module_version": "1.5.0",
            "_view_name": "ProgressView",
            "bar_style": "success",
            "description": "",
            "description_tooltip": null,
            "layout": "IPY_MODEL_be76fd700ccd4620a24183aca312662f",
            "max": 786755,
            "min": 0,
            "orientation": "horizontal",
            "style": "IPY_MODEL_86678200f68d43488e201f3171eeb18e",
            "value": 786755
          }
        },
        "36d4bd79b9e9436991a068d81651d117": {
          "model_module": "@jupyter-widgets/controls",
          "model_name": "HTMLModel",
          "model_module_version": "1.5.0",
          "state": {
            "_dom_classes": [],
            "_model_module": "@jupyter-widgets/controls",
            "_model_module_version": "1.5.0",
            "_model_name": "HTMLModel",
            "_view_count": null,
            "_view_module": "@jupyter-widgets/controls",
            "_view_module_version": "1.5.0",
            "_view_name": "HTMLView",
            "description": "",
            "description_tooltip": null,
            "layout": "IPY_MODEL_ef410f06c4e64adb80667b11d41f69cb",
            "placeholder": "​",
            "style": "IPY_MODEL_f02a4598d8d5413c8555d86f35b10dba",
            "value": " 786755/786755 [00:06&lt;00:00, 142235.89 examples/s]"
          }
        },
        "d71e44ce220241c5a6fe23a90255e43c": {
          "model_module": "@jupyter-widgets/base",
          "model_name": "LayoutModel",
          "model_module_version": "1.2.0",
          "state": {
            "_model_module": "@jupyter-widgets/base",
            "_model_module_version": "1.2.0",
            "_model_name": "LayoutModel",
            "_view_count": null,
            "_view_module": "@jupyter-widgets/base",
            "_view_module_version": "1.2.0",
            "_view_name": "LayoutView",
            "align_content": null,
            "align_items": null,
            "align_self": null,
            "border": null,
            "bottom": null,
            "display": null,
            "flex": null,
            "flex_flow": null,
            "grid_area": null,
            "grid_auto_columns": null,
            "grid_auto_flow": null,
            "grid_auto_rows": null,
            "grid_column": null,
            "grid_gap": null,
            "grid_row": null,
            "grid_template_areas": null,
            "grid_template_columns": null,
            "grid_template_rows": null,
            "height": null,
            "justify_content": null,
            "justify_items": null,
            "left": null,
            "margin": null,
            "max_height": null,
            "max_width": null,
            "min_height": null,
            "min_width": null,
            "object_fit": null,
            "object_position": null,
            "order": null,
            "overflow": null,
            "overflow_x": null,
            "overflow_y": null,
            "padding": null,
            "right": null,
            "top": null,
            "visibility": null,
            "width": null
          }
        },
        "c921d4522a464e62b4f840a4b3b30142": {
          "model_module": "@jupyter-widgets/base",
          "model_name": "LayoutModel",
          "model_module_version": "1.2.0",
          "state": {
            "_model_module": "@jupyter-widgets/base",
            "_model_module_version": "1.2.0",
            "_model_name": "LayoutModel",
            "_view_count": null,
            "_view_module": "@jupyter-widgets/base",
            "_view_module_version": "1.2.0",
            "_view_name": "LayoutView",
            "align_content": null,
            "align_items": null,
            "align_self": null,
            "border": null,
            "bottom": null,
            "display": null,
            "flex": null,
            "flex_flow": null,
            "grid_area": null,
            "grid_auto_columns": null,
            "grid_auto_flow": null,
            "grid_auto_rows": null,
            "grid_column": null,
            "grid_gap": null,
            "grid_row": null,
            "grid_template_areas": null,
            "grid_template_columns": null,
            "grid_template_rows": null,
            "height": null,
            "justify_content": null,
            "justify_items": null,
            "left": null,
            "margin": null,
            "max_height": null,
            "max_width": null,
            "min_height": null,
            "min_width": null,
            "object_fit": null,
            "object_position": null,
            "order": null,
            "overflow": null,
            "overflow_x": null,
            "overflow_y": null,
            "padding": null,
            "right": null,
            "top": null,
            "visibility": null,
            "width": null
          }
        },
        "f1b5d3a1dab3495d8139c4700009ec87": {
          "model_module": "@jupyter-widgets/controls",
          "model_name": "DescriptionStyleModel",
          "model_module_version": "1.5.0",
          "state": {
            "_model_module": "@jupyter-widgets/controls",
            "_model_module_version": "1.5.0",
            "_model_name": "DescriptionStyleModel",
            "_view_count": null,
            "_view_module": "@jupyter-widgets/base",
            "_view_module_version": "1.2.0",
            "_view_name": "StyleView",
            "description_width": ""
          }
        },
        "be76fd700ccd4620a24183aca312662f": {
          "model_module": "@jupyter-widgets/base",
          "model_name": "LayoutModel",
          "model_module_version": "1.2.0",
          "state": {
            "_model_module": "@jupyter-widgets/base",
            "_model_module_version": "1.2.0",
            "_model_name": "LayoutModel",
            "_view_count": null,
            "_view_module": "@jupyter-widgets/base",
            "_view_module_version": "1.2.0",
            "_view_name": "LayoutView",
            "align_content": null,
            "align_items": null,
            "align_self": null,
            "border": null,
            "bottom": null,
            "display": null,
            "flex": null,
            "flex_flow": null,
            "grid_area": null,
            "grid_auto_columns": null,
            "grid_auto_flow": null,
            "grid_auto_rows": null,
            "grid_column": null,
            "grid_gap": null,
            "grid_row": null,
            "grid_template_areas": null,
            "grid_template_columns": null,
            "grid_template_rows": null,
            "height": null,
            "justify_content": null,
            "justify_items": null,
            "left": null,
            "margin": null,
            "max_height": null,
            "max_width": null,
            "min_height": null,
            "min_width": null,
            "object_fit": null,
            "object_position": null,
            "order": null,
            "overflow": null,
            "overflow_x": null,
            "overflow_y": null,
            "padding": null,
            "right": null,
            "top": null,
            "visibility": null,
            "width": null
          }
        },
        "86678200f68d43488e201f3171eeb18e": {
          "model_module": "@jupyter-widgets/controls",
          "model_name": "ProgressStyleModel",
          "model_module_version": "1.5.0",
          "state": {
            "_model_module": "@jupyter-widgets/controls",
            "_model_module_version": "1.5.0",
            "_model_name": "ProgressStyleModel",
            "_view_count": null,
            "_view_module": "@jupyter-widgets/base",
            "_view_module_version": "1.2.0",
            "_view_name": "StyleView",
            "bar_color": null,
            "description_width": ""
          }
        },
        "ef410f06c4e64adb80667b11d41f69cb": {
          "model_module": "@jupyter-widgets/base",
          "model_name": "LayoutModel",
          "model_module_version": "1.2.0",
          "state": {
            "_model_module": "@jupyter-widgets/base",
            "_model_module_version": "1.2.0",
            "_model_name": "LayoutModel",
            "_view_count": null,
            "_view_module": "@jupyter-widgets/base",
            "_view_module_version": "1.2.0",
            "_view_name": "LayoutView",
            "align_content": null,
            "align_items": null,
            "align_self": null,
            "border": null,
            "bottom": null,
            "display": null,
            "flex": null,
            "flex_flow": null,
            "grid_area": null,
            "grid_auto_columns": null,
            "grid_auto_flow": null,
            "grid_auto_rows": null,
            "grid_column": null,
            "grid_gap": null,
            "grid_row": null,
            "grid_template_areas": null,
            "grid_template_columns": null,
            "grid_template_rows": null,
            "height": null,
            "justify_content": null,
            "justify_items": null,
            "left": null,
            "margin": null,
            "max_height": null,
            "max_width": null,
            "min_height": null,
            "min_width": null,
            "object_fit": null,
            "object_position": null,
            "order": null,
            "overflow": null,
            "overflow_x": null,
            "overflow_y": null,
            "padding": null,
            "right": null,
            "top": null,
            "visibility": null,
            "width": null
          }
        },
        "f02a4598d8d5413c8555d86f35b10dba": {
          "model_module": "@jupyter-widgets/controls",
          "model_name": "DescriptionStyleModel",
          "model_module_version": "1.5.0",
          "state": {
            "_model_module": "@jupyter-widgets/controls",
            "_model_module_version": "1.5.0",
            "_model_name": "DescriptionStyleModel",
            "_view_count": null,
            "_view_module": "@jupyter-widgets/base",
            "_view_module_version": "1.2.0",
            "_view_name": "StyleView",
            "description_width": ""
          }
        }
      }
    }
  },
  "cells": [
    {
      "cell_type": "code",
      "execution_count": null,
      "metadata": {
        "id": "06A036uUU2jA"
      },
      "outputs": [],
      "source": [
        "import numpy as np\n",
        "import torch\n",
        "import torch.nn as nn\n",
        "import torchaudio.transforms as transforms\n",
        "from torch.utils.data import DataLoader\n",
        "from torch.utils.data import Dataset\n",
        "import matplotlib.pyplot as plt\n",
        "import torch.nn.functional as F\n",
        "import string\n",
        "\n",
        "from datetime import datetime"
      ]
    },
    {
      "cell_type": "code",
      "source": [
        "!pip install datasets -q"
      ],
      "metadata": {
        "colab": {
          "base_uri": "https://localhost:8080/"
        },
        "id": "O9YRZhHTWiUR",
        "outputId": "05ea9525-1f10-4cb2-f319-b9448e8f8b02"
      },
      "execution_count": null,
      "outputs": [
        {
          "output_type": "stream",
          "name": "stdout",
          "text": [
            "\u001b[?25l   \u001b[90m━━━━━━━━━━━━━━━━━━━━━━━━━━━━━━━━━━━━━━━━\u001b[0m \u001b[32m0.0/474.3 kB\u001b[0m \u001b[31m?\u001b[0m eta \u001b[36m-:--:--\u001b[0m\r\u001b[2K   \u001b[90m━━━━━━━━━━━━━━━━━━━━━━━━━━━━━━━━━━━━━━━━\u001b[0m \u001b[32m474.3/474.3 kB\u001b[0m \u001b[31m33.6 MB/s\u001b[0m eta \u001b[36m0:00:00\u001b[0m\n",
            "\u001b[2K   \u001b[90m━━━━━━━━━━━━━━━━━━━━━━━━━━━━━━━━━━━━━━━━\u001b[0m \u001b[32m116.3/116.3 kB\u001b[0m \u001b[31m11.3 MB/s\u001b[0m eta \u001b[36m0:00:00\u001b[0m\n",
            "\u001b[2K   \u001b[90m━━━━━━━━━━━━━━━━━━━━━━━━━━━━━━━━━━━━━━━━\u001b[0m \u001b[32m39.9/39.9 MB\u001b[0m \u001b[31m57.1 MB/s\u001b[0m eta \u001b[36m0:00:00\u001b[0m\n",
            "\u001b[2K   \u001b[90m━━━━━━━━━━━━━━━━━━━━━━━━━━━━━━━━━━━━━━━━\u001b[0m \u001b[32m134.8/134.8 kB\u001b[0m \u001b[31m12.3 MB/s\u001b[0m eta \u001b[36m0:00:00\u001b[0m\n",
            "\u001b[2K   \u001b[90m━━━━━━━━━━━━━━━━━━━━━━━━━━━━━━━━━━━━━━━━\u001b[0m \u001b[32m194.1/194.1 kB\u001b[0m \u001b[31m17.1 MB/s\u001b[0m eta \u001b[36m0:00:00\u001b[0m\n",
            "\u001b[?25h\u001b[31mERROR: pip's dependency resolver does not currently take into account all the packages that are installed. This behaviour is the source of the following dependency conflicts.\n",
            "cudf-cu12 24.4.1 requires pyarrow<15.0.0a0,>=14.0.1, but you have pyarrow 17.0.0 which is incompatible.\n",
            "ibis-framework 8.0.0 requires pyarrow<16,>=2, but you have pyarrow 17.0.0 which is incompatible.\u001b[0m\u001b[31m\n",
            "\u001b[0m"
          ]
        }
      ]
    },
    {
      "cell_type": "markdown",
      "source": [
        "# Get the data"
      ],
      "metadata": {
        "id": "6tTh0aFnVXzx"
      }
    },
    {
      "cell_type": "markdown",
      "source": [
        "## Download dataset"
      ],
      "metadata": {
        "id": "lHcVu_BGhnT5"
      }
    },
    {
      "cell_type": "code",
      "source": [
        "from datasets import load_dataset\n",
        "\n",
        "ds = load_dataset(\"Seferovic/bosnian-news-articles-dataset-from-klixba\")"
      ],
      "metadata": {
        "colab": {
          "base_uri": "https://localhost:8080/",
          "height": 266,
          "referenced_widgets": [
            "2206ba1b666a446086b590b2b10b3598",
            "95ed4546be4141f0864735391344adff",
            "99c58a9ff4ce4c55a8b2ea54cb1aa732",
            "95b46f105d004d4ca285ef53f0abeb32",
            "da9d3e213b224ef584432270bca26550",
            "dbf47fcaa37d491fadf7235057c15c9c",
            "8511718d7479428294de3270d36b834a",
            "892d64d96ebb49d1a5709b6f3784f531",
            "82c2c0a70c05452b9f3d039aa773b442",
            "d1ffa616282c4d72a4a646c005f884de",
            "55b86c3eec5d4a9f90aa34650dafc45d",
            "c048231c4dec402cbc774b9744619477",
            "373a07e4413746a78f0d95778a68ed0b",
            "513841dfc583490c8061c2b64a8fced6",
            "3c44fccc469c40dc875f1373eb48a3d2",
            "ac94d617a2684fd887371cf4bce09965",
            "a5eb30a0b4ef4f6896cdb27b3a059acb",
            "c4eb03bc3ec3437e8f7a50d5c5b2ed3d",
            "4eb6a66c9a6d45a9b32ae25db1d380af",
            "b936b4c011054feab2bcbdd345454515",
            "20232df3c998486183b2aa77342cfa74",
            "947042bacca24322abf35219eee941d0",
            "e5cffde1cc514e57b0fac5f0cd81b9a3",
            "12fca07723524b788e2fc9b9a0372a50",
            "a4ff75efadc14e3c9638c0cf8dbef7f3",
            "c91a1a1c376f42b1ad4c30c529c01e16",
            "972c20a4a189472c84135224fa4d8dcd",
            "ba2b25fb83834c9194becfa211472dfa",
            "62b61c19b936479484b15e2a445725ec",
            "bf169c2ee2ea466086a31c5d3d68e2bd",
            "3630fe24ec784fae9c4d0833bbe94899",
            "2a1a5df7aeb44811ac154116e161fdf5",
            "f5652b57d9744260b17366383fb64b80",
            "dc1e4454e86e48d7b94b09681ee28601",
            "95e1396c39ba4700894b5c84f3937a25",
            "e61a111004214c53b81558d5eda1eadd",
            "62055b59713343cbbb17f7fd27b1dc23",
            "d71dbfbc6ba943819822934b08492b18",
            "8da2c98378524d0198bf6bdff1bba786",
            "7ed78add0cc4472cb2d8fb65d8e3685f",
            "0878624bd9c14f2db77fc0383655a441",
            "121e929da053447aacb4ed7685772ba4",
            "fdee7c9cd783498c8a9663b3cb6e5ba8",
            "cee6b473f3274f65bd2e37f2d2ff2803",
            "8b351e8dda85417bad81b4d0c17d8376",
            "3a59d5218db845afaec229e48ebb0272",
            "e4f23ab07712419a8df9c26b5cc998ea",
            "36d4bd79b9e9436991a068d81651d117",
            "d71e44ce220241c5a6fe23a90255e43c",
            "c921d4522a464e62b4f840a4b3b30142",
            "f1b5d3a1dab3495d8139c4700009ec87",
            "be76fd700ccd4620a24183aca312662f",
            "86678200f68d43488e201f3171eeb18e",
            "ef410f06c4e64adb80667b11d41f69cb",
            "f02a4598d8d5413c8555d86f35b10dba"
          ]
        },
        "id": "e3sv8fpaVGQq",
        "outputId": "7392410c-ced0-44ed-9c2c-c6d5ea2cfe88"
      },
      "execution_count": null,
      "outputs": [
        {
          "output_type": "stream",
          "name": "stderr",
          "text": [
            "/usr/local/lib/python3.10/dist-packages/huggingface_hub/utils/_token.py:81: UserWarning: \n",
            "Access to the secret `HF_TOKEN` has not been granted on this notebook.\n",
            "You will not be requested again.\n",
            "Please restart the session if you want to be prompted again.\n",
            "  warnings.warn(\n"
          ]
        },
        {
          "output_type": "display_data",
          "data": {
            "text/plain": [
              "README.md:   0%|          | 0.00/2.68k [00:00<?, ?B/s]"
            ],
            "application/vnd.jupyter.widget-view+json": {
              "version_major": 2,
              "version_minor": 0,
              "model_id": "2206ba1b666a446086b590b2b10b3598"
            }
          },
          "metadata": {}
        },
        {
          "output_type": "display_data",
          "data": {
            "text/plain": [
              "train-00000-of-00003.parquet:   0%|          | 0.00/348M [00:00<?, ?B/s]"
            ],
            "application/vnd.jupyter.widget-view+json": {
              "version_major": 2,
              "version_minor": 0,
              "model_id": "c048231c4dec402cbc774b9744619477"
            }
          },
          "metadata": {}
        },
        {
          "output_type": "display_data",
          "data": {
            "text/plain": [
              "train-00001-of-00003.parquet:   0%|          | 0.00/310M [00:00<?, ?B/s]"
            ],
            "application/vnd.jupyter.widget-view+json": {
              "version_major": 2,
              "version_minor": 0,
              "model_id": "e5cffde1cc514e57b0fac5f0cd81b9a3"
            }
          },
          "metadata": {}
        },
        {
          "output_type": "display_data",
          "data": {
            "text/plain": [
              "train-00002-of-00003.parquet:   0%|          | 0.00/255M [00:00<?, ?B/s]"
            ],
            "application/vnd.jupyter.widget-view+json": {
              "version_major": 2,
              "version_minor": 0,
              "model_id": "dc1e4454e86e48d7b94b09681ee28601"
            }
          },
          "metadata": {}
        },
        {
          "output_type": "display_data",
          "data": {
            "text/plain": [
              "Generating train split:   0%|          | 0/786755 [00:00<?, ? examples/s]"
            ],
            "application/vnd.jupyter.widget-view+json": {
              "version_major": 2,
              "version_minor": 0,
              "model_id": "8b351e8dda85417bad81b4d0c17d8376"
            }
          },
          "metadata": {}
        }
      ]
    },
    {
      "cell_type": "code",
      "source": [
        "df = ds['train'].to_pandas()"
      ],
      "metadata": {
        "id": "37av5t32VXQb"
      },
      "execution_count": null,
      "outputs": []
    },
    {
      "cell_type": "code",
      "source": [
        "df.head()"
      ],
      "metadata": {
        "colab": {
          "base_uri": "https://localhost:8080/",
          "height": 293
        },
        "id": "X5aSyeb0Xbct",
        "outputId": "e4f21948-0bb4-4001-872a-97b6350cd840"
      },
      "execution_count": null,
      "outputs": [
        {
          "output_type": "execute_result",
          "data": {
            "text/plain": [
              "                                               title  \\\n",
              "0  Ukrajinski piloti započeli obuku za upravljanj...   \n",
              "1  Košarkaši BiH se danas protiv Poljske bore za ...   \n",
              "2  Nakon više od 80 godina Kaliforniji se sprema ...   \n",
              "3  Kremlj je na popis stranih agenata u Rusiji uv...   \n",
              "4  Savo Manojlović odgovorio Ani Brnabić: Da li s...   \n",
              "\n",
              "                                                link article_class  \\\n",
              "0  https://www.klix.ba/vijesti/svijet/ukrajinski-...       vijesti   \n",
              "1  https://www.klix.ba/sport/kosarka/kosarkasi-bi...         sport   \n",
              "2  https://www.klix.ba/vijesti/svijet/nakon-vise-...       vijesti   \n",
              "3  https://www.klix.ba/vijesti/svijet/kremlj-je-n...       vijesti   \n",
              "4  https://www.klix.ba/vijesti/regija/savo-manojl...       vijesti   \n",
              "\n",
              "         article_class_name  num_of_comments num_of_shares  \\\n",
              "0   Obučavaju ih Amerikanci                0             0   \n",
              "1  Finale pretkvalifikacija                8             0   \n",
              "2             Uragan Hilary               17            18   \n",
              "3         Paranoja u Moskvi                4            27   \n",
              "4      Pitanje odgovornosti                8             8   \n",
              "\n",
              "                                        picture_path  \\\n",
              "0  https://static.klix.ba/media/images/vijesti/b_...   \n",
              "1  https://static.klix.ba/media/images/vijesti/b_...   \n",
              "2  https://static.klix.ba/media/images/vijesti/b_...   \n",
              "3  https://static.klix.ba/media/images/vijesti/23...   \n",
              "4  https://static.klix.ba/media/images/vijesti/b_...   \n",
              "\n",
              "                                                text  \n",
              "0  Ukrajinski piloti započeli su zajedničku obuku...  \n",
              "1  Košarkaška reprezentacija Bosne i Hercegovine ...  \n",
              "2  Uragan Hilary koji se kreće prema pacifičkoj o...  \n",
              "3  Rusko ministarstvo pravde uključilo je na tako...  \n",
              "4  Direktor pokreta \"Kreni-Promeni\" Savo Manojlov...  "
            ],
            "text/html": [
              "\n",
              "  <div id=\"df-0ce6a496-0681-42a8-9d72-054807da794a\" class=\"colab-df-container\">\n",
              "    <div>\n",
              "<style scoped>\n",
              "    .dataframe tbody tr th:only-of-type {\n",
              "        vertical-align: middle;\n",
              "    }\n",
              "\n",
              "    .dataframe tbody tr th {\n",
              "        vertical-align: top;\n",
              "    }\n",
              "\n",
              "    .dataframe thead th {\n",
              "        text-align: right;\n",
              "    }\n",
              "</style>\n",
              "<table border=\"1\" class=\"dataframe\">\n",
              "  <thead>\n",
              "    <tr style=\"text-align: right;\">\n",
              "      <th></th>\n",
              "      <th>title</th>\n",
              "      <th>link</th>\n",
              "      <th>article_class</th>\n",
              "      <th>article_class_name</th>\n",
              "      <th>num_of_comments</th>\n",
              "      <th>num_of_shares</th>\n",
              "      <th>picture_path</th>\n",
              "      <th>text</th>\n",
              "    </tr>\n",
              "  </thead>\n",
              "  <tbody>\n",
              "    <tr>\n",
              "      <th>0</th>\n",
              "      <td>Ukrajinski piloti započeli obuku za upravljanj...</td>\n",
              "      <td>https://www.klix.ba/vijesti/svijet/ukrajinski-...</td>\n",
              "      <td>vijesti</td>\n",
              "      <td>Obučavaju ih Amerikanci</td>\n",
              "      <td>0</td>\n",
              "      <td>0</td>\n",
              "      <td>https://static.klix.ba/media/images/vijesti/b_...</td>\n",
              "      <td>Ukrajinski piloti započeli su zajedničku obuku...</td>\n",
              "    </tr>\n",
              "    <tr>\n",
              "      <th>1</th>\n",
              "      <td>Košarkaši BiH se danas protiv Poljske bore za ...</td>\n",
              "      <td>https://www.klix.ba/sport/kosarka/kosarkasi-bi...</td>\n",
              "      <td>sport</td>\n",
              "      <td>Finale pretkvalifikacija</td>\n",
              "      <td>8</td>\n",
              "      <td>0</td>\n",
              "      <td>https://static.klix.ba/media/images/vijesti/b_...</td>\n",
              "      <td>Košarkaška reprezentacija Bosne i Hercegovine ...</td>\n",
              "    </tr>\n",
              "    <tr>\n",
              "      <th>2</th>\n",
              "      <td>Nakon više od 80 godina Kaliforniji se sprema ...</td>\n",
              "      <td>https://www.klix.ba/vijesti/svijet/nakon-vise-...</td>\n",
              "      <td>vijesti</td>\n",
              "      <td>Uragan Hilary</td>\n",
              "      <td>17</td>\n",
              "      <td>18</td>\n",
              "      <td>https://static.klix.ba/media/images/vijesti/b_...</td>\n",
              "      <td>Uragan Hilary koji se kreće prema pacifičkoj o...</td>\n",
              "    </tr>\n",
              "    <tr>\n",
              "      <th>3</th>\n",
              "      <td>Kremlj je na popis stranih agenata u Rusiji uv...</td>\n",
              "      <td>https://www.klix.ba/vijesti/svijet/kremlj-je-n...</td>\n",
              "      <td>vijesti</td>\n",
              "      <td>Paranoja u Moskvi</td>\n",
              "      <td>4</td>\n",
              "      <td>27</td>\n",
              "      <td>https://static.klix.ba/media/images/vijesti/23...</td>\n",
              "      <td>Rusko ministarstvo pravde uključilo je na tako...</td>\n",
              "    </tr>\n",
              "    <tr>\n",
              "      <th>4</th>\n",
              "      <td>Savo Manojlović odgovorio Ani Brnabić: Da li s...</td>\n",
              "      <td>https://www.klix.ba/vijesti/regija/savo-manojl...</td>\n",
              "      <td>vijesti</td>\n",
              "      <td>Pitanje odgovornosti</td>\n",
              "      <td>8</td>\n",
              "      <td>8</td>\n",
              "      <td>https://static.klix.ba/media/images/vijesti/b_...</td>\n",
              "      <td>Direktor pokreta \"Kreni-Promeni\" Savo Manojlov...</td>\n",
              "    </tr>\n",
              "  </tbody>\n",
              "</table>\n",
              "</div>\n",
              "    <div class=\"colab-df-buttons\">\n",
              "\n",
              "  <div class=\"colab-df-container\">\n",
              "    <button class=\"colab-df-convert\" onclick=\"convertToInteractive('df-0ce6a496-0681-42a8-9d72-054807da794a')\"\n",
              "            title=\"Convert this dataframe to an interactive table.\"\n",
              "            style=\"display:none;\">\n",
              "\n",
              "  <svg xmlns=\"http://www.w3.org/2000/svg\" height=\"24px\" viewBox=\"0 -960 960 960\">\n",
              "    <path d=\"M120-120v-720h720v720H120Zm60-500h600v-160H180v160Zm220 220h160v-160H400v160Zm0 220h160v-160H400v160ZM180-400h160v-160H180v160Zm440 0h160v-160H620v160ZM180-180h160v-160H180v160Zm440 0h160v-160H620v160Z\"/>\n",
              "  </svg>\n",
              "    </button>\n",
              "\n",
              "  <style>\n",
              "    .colab-df-container {\n",
              "      display:flex;\n",
              "      gap: 12px;\n",
              "    }\n",
              "\n",
              "    .colab-df-convert {\n",
              "      background-color: #E8F0FE;\n",
              "      border: none;\n",
              "      border-radius: 50%;\n",
              "      cursor: pointer;\n",
              "      display: none;\n",
              "      fill: #1967D2;\n",
              "      height: 32px;\n",
              "      padding: 0 0 0 0;\n",
              "      width: 32px;\n",
              "    }\n",
              "\n",
              "    .colab-df-convert:hover {\n",
              "      background-color: #E2EBFA;\n",
              "      box-shadow: 0px 1px 2px rgba(60, 64, 67, 0.3), 0px 1px 3px 1px rgba(60, 64, 67, 0.15);\n",
              "      fill: #174EA6;\n",
              "    }\n",
              "\n",
              "    .colab-df-buttons div {\n",
              "      margin-bottom: 4px;\n",
              "    }\n",
              "\n",
              "    [theme=dark] .colab-df-convert {\n",
              "      background-color: #3B4455;\n",
              "      fill: #D2E3FC;\n",
              "    }\n",
              "\n",
              "    [theme=dark] .colab-df-convert:hover {\n",
              "      background-color: #434B5C;\n",
              "      box-shadow: 0px 1px 3px 1px rgba(0, 0, 0, 0.15);\n",
              "      filter: drop-shadow(0px 1px 2px rgba(0, 0, 0, 0.3));\n",
              "      fill: #FFFFFF;\n",
              "    }\n",
              "  </style>\n",
              "\n",
              "    <script>\n",
              "      const buttonEl =\n",
              "        document.querySelector('#df-0ce6a496-0681-42a8-9d72-054807da794a button.colab-df-convert');\n",
              "      buttonEl.style.display =\n",
              "        google.colab.kernel.accessAllowed ? 'block' : 'none';\n",
              "\n",
              "      async function convertToInteractive(key) {\n",
              "        const element = document.querySelector('#df-0ce6a496-0681-42a8-9d72-054807da794a');\n",
              "        const dataTable =\n",
              "          await google.colab.kernel.invokeFunction('convertToInteractive',\n",
              "                                                    [key], {});\n",
              "        if (!dataTable) return;\n",
              "\n",
              "        const docLinkHtml = 'Like what you see? Visit the ' +\n",
              "          '<a target=\"_blank\" href=https://colab.research.google.com/notebooks/data_table.ipynb>data table notebook</a>'\n",
              "          + ' to learn more about interactive tables.';\n",
              "        element.innerHTML = '';\n",
              "        dataTable['output_type'] = 'display_data';\n",
              "        await google.colab.output.renderOutput(dataTable, element);\n",
              "        const docLink = document.createElement('div');\n",
              "        docLink.innerHTML = docLinkHtml;\n",
              "        element.appendChild(docLink);\n",
              "      }\n",
              "    </script>\n",
              "  </div>\n",
              "\n",
              "\n",
              "<div id=\"df-b44e59cb-de6d-4024-880d-f84ebd3255a0\">\n",
              "  <button class=\"colab-df-quickchart\" onclick=\"quickchart('df-b44e59cb-de6d-4024-880d-f84ebd3255a0')\"\n",
              "            title=\"Suggest charts\"\n",
              "            style=\"display:none;\">\n",
              "\n",
              "<svg xmlns=\"http://www.w3.org/2000/svg\" height=\"24px\"viewBox=\"0 0 24 24\"\n",
              "     width=\"24px\">\n",
              "    <g>\n",
              "        <path d=\"M19 3H5c-1.1 0-2 .9-2 2v14c0 1.1.9 2 2 2h14c1.1 0 2-.9 2-2V5c0-1.1-.9-2-2-2zM9 17H7v-7h2v7zm4 0h-2V7h2v10zm4 0h-2v-4h2v4z\"/>\n",
              "    </g>\n",
              "</svg>\n",
              "  </button>\n",
              "\n",
              "<style>\n",
              "  .colab-df-quickchart {\n",
              "      --bg-color: #E8F0FE;\n",
              "      --fill-color: #1967D2;\n",
              "      --hover-bg-color: #E2EBFA;\n",
              "      --hover-fill-color: #174EA6;\n",
              "      --disabled-fill-color: #AAA;\n",
              "      --disabled-bg-color: #DDD;\n",
              "  }\n",
              "\n",
              "  [theme=dark] .colab-df-quickchart {\n",
              "      --bg-color: #3B4455;\n",
              "      --fill-color: #D2E3FC;\n",
              "      --hover-bg-color: #434B5C;\n",
              "      --hover-fill-color: #FFFFFF;\n",
              "      --disabled-bg-color: #3B4455;\n",
              "      --disabled-fill-color: #666;\n",
              "  }\n",
              "\n",
              "  .colab-df-quickchart {\n",
              "    background-color: var(--bg-color);\n",
              "    border: none;\n",
              "    border-radius: 50%;\n",
              "    cursor: pointer;\n",
              "    display: none;\n",
              "    fill: var(--fill-color);\n",
              "    height: 32px;\n",
              "    padding: 0;\n",
              "    width: 32px;\n",
              "  }\n",
              "\n",
              "  .colab-df-quickchart:hover {\n",
              "    background-color: var(--hover-bg-color);\n",
              "    box-shadow: 0 1px 2px rgba(60, 64, 67, 0.3), 0 1px 3px 1px rgba(60, 64, 67, 0.15);\n",
              "    fill: var(--button-hover-fill-color);\n",
              "  }\n",
              "\n",
              "  .colab-df-quickchart-complete:disabled,\n",
              "  .colab-df-quickchart-complete:disabled:hover {\n",
              "    background-color: var(--disabled-bg-color);\n",
              "    fill: var(--disabled-fill-color);\n",
              "    box-shadow: none;\n",
              "  }\n",
              "\n",
              "  .colab-df-spinner {\n",
              "    border: 2px solid var(--fill-color);\n",
              "    border-color: transparent;\n",
              "    border-bottom-color: var(--fill-color);\n",
              "    animation:\n",
              "      spin 1s steps(1) infinite;\n",
              "  }\n",
              "\n",
              "  @keyframes spin {\n",
              "    0% {\n",
              "      border-color: transparent;\n",
              "      border-bottom-color: var(--fill-color);\n",
              "      border-left-color: var(--fill-color);\n",
              "    }\n",
              "    20% {\n",
              "      border-color: transparent;\n",
              "      border-left-color: var(--fill-color);\n",
              "      border-top-color: var(--fill-color);\n",
              "    }\n",
              "    30% {\n",
              "      border-color: transparent;\n",
              "      border-left-color: var(--fill-color);\n",
              "      border-top-color: var(--fill-color);\n",
              "      border-right-color: var(--fill-color);\n",
              "    }\n",
              "    40% {\n",
              "      border-color: transparent;\n",
              "      border-right-color: var(--fill-color);\n",
              "      border-top-color: var(--fill-color);\n",
              "    }\n",
              "    60% {\n",
              "      border-color: transparent;\n",
              "      border-right-color: var(--fill-color);\n",
              "    }\n",
              "    80% {\n",
              "      border-color: transparent;\n",
              "      border-right-color: var(--fill-color);\n",
              "      border-bottom-color: var(--fill-color);\n",
              "    }\n",
              "    90% {\n",
              "      border-color: transparent;\n",
              "      border-bottom-color: var(--fill-color);\n",
              "    }\n",
              "  }\n",
              "</style>\n",
              "\n",
              "  <script>\n",
              "    async function quickchart(key) {\n",
              "      const quickchartButtonEl =\n",
              "        document.querySelector('#' + key + ' button');\n",
              "      quickchartButtonEl.disabled = true;  // To prevent multiple clicks.\n",
              "      quickchartButtonEl.classList.add('colab-df-spinner');\n",
              "      try {\n",
              "        const charts = await google.colab.kernel.invokeFunction(\n",
              "            'suggestCharts', [key], {});\n",
              "      } catch (error) {\n",
              "        console.error('Error during call to suggestCharts:', error);\n",
              "      }\n",
              "      quickchartButtonEl.classList.remove('colab-df-spinner');\n",
              "      quickchartButtonEl.classList.add('colab-df-quickchart-complete');\n",
              "    }\n",
              "    (() => {\n",
              "      let quickchartButtonEl =\n",
              "        document.querySelector('#df-b44e59cb-de6d-4024-880d-f84ebd3255a0 button');\n",
              "      quickchartButtonEl.style.display =\n",
              "        google.colab.kernel.accessAllowed ? 'block' : 'none';\n",
              "    })();\n",
              "  </script>\n",
              "</div>\n",
              "    </div>\n",
              "  </div>\n"
            ],
            "application/vnd.google.colaboratory.intrinsic+json": {
              "type": "dataframe",
              "variable_name": "df"
            }
          },
          "metadata": {},
          "execution_count": 5
        }
      ]
    },
    {
      "cell_type": "code",
      "source": [
        "text = df['text'].values[:1500]"
      ],
      "metadata": {
        "id": "4xPfaLMUXk1p"
      },
      "execution_count": null,
      "outputs": []
    },
    {
      "cell_type": "code",
      "source": [
        "text = ''.join(text)\n",
        "text = text[:2_050_000].lower()"
      ],
      "metadata": {
        "id": "k3oHEZGyaQrH"
      },
      "execution_count": null,
      "outputs": []
    },
    {
      "cell_type": "code",
      "source": [
        "len(text)"
      ],
      "metadata": {
        "colab": {
          "base_uri": "https://localhost:8080/"
        },
        "id": "LIRXyiXXa2NC",
        "outputId": "66043226-2e77-4e0c-89fa-1ac1371591a1"
      },
      "execution_count": null,
      "outputs": [
        {
          "output_type": "execute_result",
          "data": {
            "text/plain": [
              "2050004"
            ]
          },
          "metadata": {},
          "execution_count": 95
        }
      ]
    },
    {
      "cell_type": "markdown",
      "source": [
        "## Prepare dataset"
      ],
      "metadata": {
        "id": "oTUGgwlqelto"
      }
    },
    {
      "cell_type": "code",
      "source": [
        "accepted_text= string.ascii_lowercase + 'šđžčć' + string.digits + '!?.,\"()+-/@%–' + \"':\" + ' ' + '\\n'\n",
        "chars = [x for x in accepted_text]\n",
        "print(chars)"
      ],
      "metadata": {
        "colab": {
          "base_uri": "https://localhost:8080/"
        },
        "id": "6mtWZs0FMqnh",
        "outputId": "993f9037-bace-47c0-87a4-b46c349865be"
      },
      "execution_count": null,
      "outputs": [
        {
          "output_type": "stream",
          "name": "stdout",
          "text": [
            "['a', 'b', 'c', 'd', 'e', 'f', 'g', 'h', 'i', 'j', 'k', 'l', 'm', 'n', 'o', 'p', 'q', 'r', 's', 't', 'u', 'v', 'w', 'x', 'y', 'z', 'š', 'đ', 'ž', 'č', 'ć', '0', '1', '2', '3', '4', '5', '6', '7', '8', '9', '!', '?', '.', ',', '\"', '(', ')', '+', '-', '/', '@', '%', '–', \"'\", ':', ' ', '\\n']\n"
          ]
        }
      ]
    },
    {
      "cell_type": "code",
      "source": [
        "text = ''.join([char for char in text if char in accepted_text])"
      ],
      "metadata": {
        "id": "ftNIYLSGYztB"
      },
      "execution_count": null,
      "outputs": []
    },
    {
      "cell_type": "code",
      "source": [
        "test_size = 0.20\n",
        "train_text = text[:int(len(text)*(1-test_size))]\n",
        "test_text = text[int(len(text)*(1-test_size)):]"
      ],
      "metadata": {
        "id": "ozofNyJbd-IH"
      },
      "execution_count": null,
      "outputs": []
    },
    {
      "cell_type": "code",
      "source": [
        "len(train_text), len(test_text)"
      ],
      "metadata": {
        "colab": {
          "base_uri": "https://localhost:8080/"
        },
        "id": "AR-UN4k3fac7",
        "outputId": "a16e8a7b-d510-4473-b084-bbbdaa9fb5ca"
      },
      "execution_count": null,
      "outputs": [
        {
          "output_type": "execute_result",
          "data": {
            "text/plain": [
              "(1637311, 409328)"
            ]
          },
          "metadata": {},
          "execution_count": 99
        }
      ]
    },
    {
      "cell_type": "markdown",
      "source": [
        "## Create vocab"
      ],
      "metadata": {
        "id": "9-AcUe3Uhr6G"
      }
    },
    {
      "cell_type": "code",
      "source": [
        "vocab={}"
      ],
      "metadata": {
        "id": "OEyp7_THVhi6"
      },
      "execution_count": null,
      "outputs": []
    },
    {
      "cell_type": "code",
      "source": [
        "for i, char in enumerate(chars):\n",
        "  vocab[char] = i"
      ],
      "metadata": {
        "id": "ZE9IdEKwOTGP"
      },
      "execution_count": null,
      "outputs": []
    },
    {
      "cell_type": "code",
      "source": [
        "vocab_size = len(vocab)\n",
        "print(f\"Vocabulary size: {vocab_size}\")"
      ],
      "metadata": {
        "colab": {
          "base_uri": "https://localhost:8080/"
        },
        "id": "R89xd0_4PAIw",
        "outputId": "37a30f1c-d7ec-4d52-e147-ba5084a504c8"
      },
      "execution_count": null,
      "outputs": [
        {
          "output_type": "stream",
          "name": "stdout",
          "text": [
            "Vocabulary size: 58\n"
          ]
        }
      ]
    },
    {
      "cell_type": "markdown",
      "source": [
        "## Create Custom tokenizer"
      ],
      "metadata": {
        "id": "3FTElt8NhcXm"
      }
    },
    {
      "cell_type": "code",
      "source": [
        "class Tokenizer(object):\n",
        "  def __init__(self,vocabulary):\n",
        "    self.vocabulary=vocabulary\n",
        "\n",
        "  def __call__(self,sequence, label=False):\n",
        "    sequence = sequence.lower()\n",
        "    if label:\n",
        "      token = F.one_hot(torch.tensor(self.vocabulary[sequence]),num_classes=len(self.vocabulary))\n",
        "      return token.type(torch.float32)\n",
        "    tokens =[]\n",
        "    for letter in sequence:\n",
        "      tokens.append(self.vocabulary[letter])\n",
        "    return torch.tensor(tokens)"
      ],
      "metadata": {
        "id": "0OMntxT_gvR5"
      },
      "execution_count": null,
      "outputs": []
    },
    {
      "cell_type": "code",
      "source": [
        "tokenizer = Tokenizer(vocab)"
      ],
      "metadata": {
        "id": "95KSR07NXt7t"
      },
      "execution_count": null,
      "outputs": []
    },
    {
      "cell_type": "markdown",
      "source": [
        "## Create Custom dataset object"
      ],
      "metadata": {
        "id": "7AmykNE2gLoR"
      }
    },
    {
      "cell_type": "code",
      "source": [
        "class TextDataset(Dataset):\n",
        "  def __init__(self,text,T,tokenizer=None):\n",
        "    self.tokenizer = tokenizer\n",
        "    self.text = text\n",
        "    self.T = T\n",
        "\n",
        "\n",
        "  def __len__(self):\n",
        "    return len(self.text)-self.T\n",
        "\n",
        "  def __getitem__(self,idx):\n",
        "    x = self.text[idx:idx+self.T]\n",
        "    y = self.text[idx+self.T]\n",
        "\n",
        "    if self.tokenizer:\n",
        "      x = self.tokenizer(x)\n",
        "      y = self.tokenizer(y, label=True)\n",
        "\n",
        "\n",
        "    #x = x.astype(np.float32)\n",
        "   # y = np.array(y).reshape(-1,1).astype(np.float32)\n",
        "    return x.long(), y"
      ],
      "metadata": {
        "id": "fBSUpM46Z8CH"
      },
      "execution_count": null,
      "outputs": []
    },
    {
      "cell_type": "markdown",
      "source": [
        "## Load datasets"
      ],
      "metadata": {
        "id": "yppR6NQygH5T"
      }
    },
    {
      "cell_type": "code",
      "source": [
        "train_dataset = TextDataset(train_text,150,tokenizer=tokenizer)\n",
        "test_dataset = TextDataset(test_text,150,tokenizer=tokenizer)"
      ],
      "metadata": {
        "id": "8AFpYZcmcpl7"
      },
      "execution_count": null,
      "outputs": []
    },
    {
      "cell_type": "code",
      "source": [
        "len(train_dataset), len(test_dataset)"
      ],
      "metadata": {
        "colab": {
          "base_uri": "https://localhost:8080/"
        },
        "id": "hLC0REiedURt",
        "outputId": "5c13ebed-7ca2-4cc9-cdec-356f05f12a27"
      },
      "execution_count": null,
      "outputs": [
        {
          "output_type": "execute_result",
          "data": {
            "text/plain": [
              "(1637161, 409178)"
            ]
          },
          "metadata": {},
          "execution_count": 108
        }
      ]
    },
    {
      "cell_type": "code",
      "source": [
        "for i,k in train_dataset:\n",
        "  print(i,k)\n",
        "  break"
      ],
      "metadata": {
        "colab": {
          "base_uri": "https://localhost:8080/"
        },
        "id": "S9BPv29Yc6iV",
        "outputId": "d3a6bd0e-ab6b-4162-eb4e-eb40dfc546e3"
      },
      "execution_count": null,
      "outputs": [
        {
          "output_type": "stream",
          "name": "stdout",
          "text": [
            "tensor([20, 10, 17,  0,  9,  8, 13, 18, 10,  8, 56, 15,  8, 11, 14, 19,  8, 56,\n",
            "        25,  0, 15, 14, 29,  4, 11,  8, 56, 18, 20, 56, 25,  0,  9,  4,  3, 13,\n",
            "         8, 29, 10, 20, 56, 14,  1, 20, 10, 20, 56, 25,  0, 56, 20, 15, 17,  0,\n",
            "        21, 11,  9,  0, 13,  9,  4, 56,  1, 14, 17,  1,  4, 13,  8, 12, 56,  0,\n",
            "        21,  8, 14, 13,  8, 12,  0, 56,  5, 49, 32, 37, 56, 18,  0, 56,  0, 12,\n",
            "         4, 17,  8, 29, 10,  8, 12, 56,  8, 13, 18, 19, 17, 20, 10, 19, 14, 17,\n",
            "         8, 12,  0, 56, 20, 56, 20, 10, 17,  0,  9,  8, 13,  8, 43, 56, 14, 21,\n",
            "        20, 56,  8, 13,  5, 14, 17, 12,  0,  2,  8,  9, 20, 56,  9,  4, 56, 25,\n",
            "         0, 56, 12,  4,  3,  8]) tensor([0., 0., 0., 0., 0., 0., 0., 0., 0., 1., 0., 0., 0., 0., 0., 0., 0., 0.,\n",
            "        0., 0., 0., 0., 0., 0., 0., 0., 0., 0., 0., 0., 0., 0., 0., 0., 0., 0.,\n",
            "        0., 0., 0., 0., 0., 0., 0., 0., 0., 0., 0., 0., 0., 0., 0., 0., 0., 0.,\n",
            "        0., 0., 0., 0.])\n"
          ]
        }
      ]
    },
    {
      "cell_type": "markdown",
      "source": [
        "## Initilize DataLoaders"
      ],
      "metadata": {
        "id": "Q8WD7ZI0iBgk"
      }
    },
    {
      "cell_type": "code",
      "source": [
        "train_loader = DataLoader(train_dataset, batch_size=32, shuffle=True)\n",
        "test_loader = DataLoader(test_dataset, batch_size=32)"
      ],
      "metadata": {
        "id": "iCpde61bc_7W"
      },
      "execution_count": null,
      "outputs": []
    },
    {
      "cell_type": "code",
      "source": [
        "for inputs, targets in train_loader:\n",
        "  print('inputs: ', inputs, 'shape: ', inputs.shape)\n",
        "  print('targets: ', targets, 'shape: ', targets.shape)\n",
        "  break"
      ],
      "metadata": {
        "colab": {
          "base_uri": "https://localhost:8080/"
        },
        "id": "7X5jy-PGMv5g",
        "outputId": "fac1260e-ee64-45bd-a022-3bfa7a6072fc"
      },
      "execution_count": null,
      "outputs": [
        {
          "output_type": "stream",
          "name": "stdout",
          "text": [
            "inputs:  tensor([[56, 11,  4,  ..., 12,  0, 56],\n",
            "        [ 4, 20, 19,  ..., 11,  9,  8],\n",
            "        [14, 18, 19,  ..., 20,  9, 20],\n",
            "        ...,\n",
            "        [56, 45, 18,  ...,  7, 45, 44],\n",
            "        [32, 34, 44,  ..., 32, 35, 56],\n",
            "        [21,  8, 11,  ...,  4, 17,  6]]) shape:  torch.Size([32, 150])\n",
            "targets:  tensor([[0., 0., 0.,  ..., 0., 0., 0.],\n",
            "        [0., 0., 0.,  ..., 0., 0., 0.],\n",
            "        [0., 0., 0.,  ..., 0., 1., 0.],\n",
            "        ...,\n",
            "        [0., 0., 0.,  ..., 0., 1., 0.],\n",
            "        [0., 0., 0.,  ..., 0., 0., 0.],\n",
            "        [0., 0., 0.,  ..., 0., 0., 0.]]) shape:  torch.Size([32, 58])\n"
          ]
        }
      ]
    },
    {
      "cell_type": "markdown",
      "source": [
        "# Create the model"
      ],
      "metadata": {
        "id": "osP74uLsiDCI"
      }
    },
    {
      "cell_type": "code",
      "source": [
        "device = torch.device('cuda:0' if torch.cuda.is_available() else 'cpu')\n",
        "print(device)"
      ],
      "metadata": {
        "colab": {
          "base_uri": "https://localhost:8080/"
        },
        "id": "UxUNhBPKi4Nl",
        "outputId": "1e896b71-72b1-405d-d232-3538be426618"
      },
      "execution_count": null,
      "outputs": [
        {
          "output_type": "stream",
          "name": "stdout",
          "text": [
            "cuda:0\n"
          ]
        }
      ]
    },
    {
      "cell_type": "code",
      "source": [
        "class RNN(nn.Module):\n",
        "  def __init__(self,vocab_size,embed_size,n_hidden,n_layers,n_outputs):\n",
        "    super(RNN,self).__init__()\n",
        "    self.V = vocab_size\n",
        "    self.D = embed_size\n",
        "    self.M = n_hidden\n",
        "    self.L = n_layers\n",
        "    self.K = n_outputs\n",
        "\n",
        "    self.embedding = nn.Embedding(self.V,self.D)\n",
        "\n",
        "    # Initalize rnn and fc layers\n",
        "    self.rnn = nn.LSTM(input_size=self.D,\n",
        "                      hidden_size=self.M,\n",
        "                      num_layers=self.L,\n",
        "                      batch_first=True)\n",
        "\n",
        "    self.fc = nn.Sequential(\n",
        "          nn.Linear(self.M, 1024),\n",
        "          nn.ReLU(),\n",
        "          nn.Linear(1024, 512),\n",
        "          nn.ReLU(),\n",
        "          nn.Linear(512,self.K)\n",
        "        )\n",
        "\n",
        "  def forward(self, X):\n",
        "    h0 = torch.zeros(self.L,X.size(0),self.M).to(device)\n",
        "    c0 = torch.zeros(self.L,X.size(0),self.M).to(device)\n",
        "\n",
        "    # Embedding layer:\n",
        "\n",
        "    out = self.embedding(X)\n",
        "    # pass through rnn\n",
        "\n",
        "    out,_ = self.rnn(out,(h0,c0))\n",
        "    out = F.relu(out)\n",
        "    out = self.fc(out[:,-1,:])\n",
        "    return out\n"
      ],
      "metadata": {
        "id": "naMGrVxjiE7a"
      },
      "execution_count": null,
      "outputs": []
    },
    {
      "cell_type": "code",
      "source": [
        "model = RNN(vocab_size=vocab_size,\n",
        "            embed_size=40,\n",
        "            n_hidden=256,\n",
        "            n_layers=4,\n",
        "            n_outputs=vocab_size)\n",
        "model.to(device)"
      ],
      "metadata": {
        "colab": {
          "base_uri": "https://localhost:8080/"
        },
        "id": "YTbeyEnfjD7v",
        "outputId": "ab0e6341-a18c-403a-dd17-7ef809569dcc"
      },
      "execution_count": null,
      "outputs": [
        {
          "output_type": "execute_result",
          "data": {
            "text/plain": [
              "RNN(\n",
              "  (embedding): Embedding(58, 40)\n",
              "  (rnn): LSTM(40, 256, num_layers=4, batch_first=True)\n",
              "  (fc): Sequential(\n",
              "    (0): Linear(in_features=256, out_features=1024, bias=True)\n",
              "    (1): Linear(in_features=1024, out_features=512, bias=True)\n",
              "    (2): Linear(in_features=512, out_features=58, bias=True)\n",
              "  )\n",
              ")"
            ]
          },
          "metadata": {},
          "execution_count": 120
        }
      ]
    },
    {
      "cell_type": "code",
      "source": [
        "len(vocab)"
      ],
      "metadata": {
        "colab": {
          "base_uri": "https://localhost:8080/"
        },
        "id": "lQDwNhIhKZdT",
        "outputId": "a4d8857e-9bae-42e7-9c0c-6f4bc9e4bcc4"
      },
      "execution_count": null,
      "outputs": [
        {
          "output_type": "execute_result",
          "data": {
            "text/plain": [
              "58"
            ]
          },
          "metadata": {},
          "execution_count": 121
        }
      ]
    },
    {
      "cell_type": "code",
      "source": [
        "for i, k in train_loader:\n",
        "  print(i.shape)\n",
        "  tada = model(i.to(device))\n",
        "  print(tada.size())\n",
        "  break"
      ],
      "metadata": {
        "colab": {
          "base_uri": "https://localhost:8080/"
        },
        "id": "vlGZoZ8FjVkw",
        "outputId": "f560fc7a-f3d8-4990-a678-b8161a2a1351"
      },
      "execution_count": null,
      "outputs": [
        {
          "output_type": "stream",
          "name": "stdout",
          "text": [
            "torch.Size([32, 150])\n",
            "torch.Size([32, 58])\n"
          ]
        }
      ]
    },
    {
      "cell_type": "markdown",
      "source": [
        "# Train model"
      ],
      "metadata": {
        "id": "Web7uUkljiAX"
      }
    },
    {
      "cell_type": "code",
      "source": [
        "criterion = nn.CrossEntropyLoss()\n",
        "optimizer = torch.optim.Adam(model.parameters(),lr=0.001)"
      ],
      "metadata": {
        "id": "5XPgERT9mkFX"
      },
      "execution_count": null,
      "outputs": []
    },
    {
      "cell_type": "code",
      "source": [
        "def save_model_checkpoint(val_loss, best_val_loss, train_loss, it, model=model, optimizer=optimizer,path='model_checkpoint.pt'):\n",
        "    torch.save({\n",
        "            'epoch': it,\n",
        "            'model_state_dict': model.state_dict(),\n",
        "            'optimizer_state_dict': optimizer.state_dict(),\n",
        "            'train_loss': train_loss,\n",
        "            'val_loss': val_loss,\n",
        "            }, path)\n",
        "    print(f'Model saved at epoch: {it+1}, val_loss improved from: {best_val_loss:.4f} to: {val_loss:.4f}')\n",
        "best_val_loss=float('inf')"
      ],
      "metadata": {
        "id": "sbAbUut_mysE"
      },
      "execution_count": null,
      "outputs": []
    },
    {
      "cell_type": "code",
      "source": [
        "def plot_loss_curves(train_losses,val_losses,train_losses2=None,val_losses2=None):\n",
        "  if(train_losses2 is not None):\n",
        "    train_losses = np.concatenate((train_losses,train_losses2))\n",
        "    val_losses = np.concatenate((val_losses,val_losses2))\n",
        "  plt.plot(train_losses,label='Train loss')\n",
        "  plt.plot(val_losses,label='Val loss')\n",
        "  plt.legend(); plt.show"
      ],
      "metadata": {
        "id": "gpteePwWwyro"
      },
      "execution_count": null,
      "outputs": []
    },
    {
      "cell_type": "code",
      "source": [
        "epoches=30\n",
        "train_losses = np.zeros(epoches)\n",
        "val_losses = np.zeros(epoches)\n",
        "\n",
        "for it in range(epoches):\n",
        "  t0 = datetime.now()\n",
        "  model.train() # set model to train mode\n",
        "  train_loss=[]\n",
        "  val_loss=[]\n",
        "\n",
        "  # train\n",
        "  for inputs,targets in train_loader:\n",
        "    # move data to gpu\n",
        "    inputs,targets = inputs.to(device),targets.to(device)\n",
        "    #inputs = inputs.permute(0,2,1)\n",
        "    # zero gradients\n",
        "    optimizer.zero_grad()\n",
        "\n",
        "    # forward pass\n",
        "    outputs = model(inputs)\n",
        "    loss = criterion(outputs,targets)\n",
        "\n",
        "    # backward\n",
        "    loss.backward()\n",
        "    optimizer.step()\n",
        "\n",
        "    train_loss.append(loss.item())\n",
        "\n",
        "  model.eval() # set model to eval mode\n",
        "  for inputs,targets in test_loader:\n",
        "    # move data to gpu\n",
        "    inputs,targets = inputs.to(device),targets.to(device)\n",
        "   # inputs = inputs.permute(0,2,1)\n",
        "\n",
        "\n",
        "    # forward pass\n",
        "    outputs = model(inputs)\n",
        "    loss = criterion(outputs,targets)\n",
        "\n",
        "    val_loss.append(loss.item())\n",
        "\n",
        "  # calculate loss\n",
        "  train_loss = np.mean(train_loss)\n",
        "  val_loss = np.mean(val_loss)\n",
        "  if (val_loss<best_val_loss):\n",
        "    save_model_checkpoint(val_loss,best_val_loss,train_loss,it, path='model_checkpoint.pt')\n",
        "    best_val_loss=val_loss\n",
        "  # append loss\n",
        "  train_losses[it]=train_loss\n",
        "  val_losses[it]=val_loss\n",
        "  dt = datetime.now() - t0\n",
        "  print(f\"Epoch {it+1}/{epoches}, Train loss: {train_loss:.4f}, Val loss: {val_loss:.4f}, Duration: {dt}\")\n",
        "  print('-------------------------------------------------------------')"
      ],
      "metadata": {
        "colab": {
          "base_uri": "https://localhost:8080/"
        },
        "id": "qVT2RHKam6D7",
        "outputId": "a8407c5b-fb0c-4c4b-ffa2-f99bcfa1620e"
      },
      "execution_count": null,
      "outputs": [
        {
          "output_type": "stream",
          "name": "stdout",
          "text": [
            "Model saved at epoch: 1, val_loss improved from: inf to: 1.5736\n",
            "Epoch 1/30, Train loss: 1.7885, Val loss: 1.5736, Duration: 0:18:33.757242\n",
            "-------------------------------------------------------------\n",
            "Model saved at epoch: 2, val_loss improved from: 1.5736 to: 1.4906\n",
            "Epoch 2/30, Train loss: 1.4877, Val loss: 1.4906, Duration: 0:18:32.034035\n",
            "-------------------------------------------------------------\n",
            "Model saved at epoch: 3, val_loss improved from: 1.4906 to: 1.4563\n",
            "Epoch 3/30, Train loss: 1.4152, Val loss: 1.4563, Duration: 0:18:27.215023\n",
            "-------------------------------------------------------------\n",
            "Model saved at epoch: 4, val_loss improved from: 1.4563 to: 1.4315\n",
            "Epoch 4/30, Train loss: 1.3720, Val loss: 1.4315, Duration: 0:18:29.404735\n",
            "-------------------------------------------------------------\n",
            "Model saved at epoch: 5, val_loss improved from: 1.4315 to: 1.4184\n",
            "Epoch 5/30, Train loss: 1.3412, Val loss: 1.4184, Duration: 0:18:34.244518\n",
            "-------------------------------------------------------------\n",
            "Model saved at epoch: 6, val_loss improved from: 1.4184 to: 1.4021\n",
            "Epoch 6/30, Train loss: 1.3175, Val loss: 1.4021, Duration: 0:18:39.365565\n",
            "-------------------------------------------------------------\n",
            "Model saved at epoch: 7, val_loss improved from: 1.4021 to: 1.3982\n",
            "Epoch 7/30, Train loss: 1.2976, Val loss: 1.3982, Duration: 0:18:30.619379\n",
            "-------------------------------------------------------------\n",
            "Model saved at epoch: 8, val_loss improved from: 1.3982 to: 1.3888\n",
            "Epoch 8/30, Train loss: 1.2808, Val loss: 1.3888, Duration: 0:18:34.987135\n",
            "-------------------------------------------------------------\n",
            "Model saved at epoch: 9, val_loss improved from: 1.3888 to: 1.3772\n",
            "Epoch 9/30, Train loss: 1.2664, Val loss: 1.3772, Duration: 0:18:29.451271\n",
            "-------------------------------------------------------------\n",
            "Epoch 10/30, Train loss: 1.2533, Val loss: 1.3871, Duration: 0:18:25.777380\n",
            "-------------------------------------------------------------\n",
            "Model saved at epoch: 11, val_loss improved from: 1.3772 to: 1.3756\n",
            "Epoch 11/30, Train loss: 1.2411, Val loss: 1.3756, Duration: 0:18:33.167242\n",
            "-------------------------------------------------------------\n",
            "Model saved at epoch: 12, val_loss improved from: 1.3756 to: 1.3666\n",
            "Epoch 12/30, Train loss: 1.2288, Val loss: 1.3666, Duration: 0:18:29.072844\n",
            "-------------------------------------------------------------\n",
            "Epoch 13/30, Train loss: 1.2197, Val loss: 1.3693, Duration: 0:18:29.684967\n",
            "-------------------------------------------------------------\n",
            "Epoch 14/30, Train loss: 1.2092, Val loss: 1.3799, Duration: 0:18:30.362414\n",
            "-------------------------------------------------------------\n"
          ]
        }
      ]
    },
    {
      "cell_type": "code",
      "source": [
        "print_second = False\n",
        "if print_second:\n",
        "  plot_loss_curves(train_losses2,val_losses2,train_losses,val_losses,)\n",
        "else:\n",
        "  plot_loss_curves(train_losses,val_losses)\n",
        "  train_losses2,val_losses2 = train_losses,val_losses"
      ],
      "metadata": {
        "id": "NaBW9j7em_lx"
      },
      "execution_count": null,
      "outputs": []
    },
    {
      "cell_type": "code",
      "source": [
        "model.eval()\n",
        "# train accuracy\n",
        "n_correct=0\n",
        "n_total=0\n",
        "for inputs,targets in train_loader:\n",
        "  # move data to gpu\n",
        "  inputs,targets = inputs.to(device),targets.to(device)\n",
        "  #inputs = inputs.permute(0,2,1)\n",
        "\n",
        "  # make prediction\n",
        "  outputs = model(inputs)\n",
        "  _,predictions = torch.max(outputs,1)\n",
        "  targets = torch.argmax(targets, dim=1)\n",
        "  # update counts\n",
        "  n_correct+=(predictions==targets).sum().item()\n",
        "  n_total+=targets.shape[0]\n",
        "train_acc = n_correct/n_total\n",
        "\n",
        "# test accuracy\n",
        "n_correct=0\n",
        "n_total=0\n",
        "for inputs,targets in test_loader:\n",
        "  # move data to gpu\n",
        "  inputs,targets = inputs.to(device),targets.to(device)\n",
        "  #inputs = inputs.permute(0,2,1)\n",
        "\n",
        "  # make prediction\n",
        "  outputs = model(inputs)\n",
        "  _,predictions = torch.max(outputs,1)\n",
        "  targets = torch.argmax(targets, dim=1)\n",
        "  # update counts\n",
        "  n_correct+=(predictions==targets).sum().item()\n",
        "  n_total+=targets.shape[0]\n",
        "test_acc = n_correct/n_total\n",
        "\n",
        "print(f\"Train accuracy: {train_acc:.4f}, Test accuracy: {test_acc:.4f}\")"
      ],
      "metadata": {
        "colab": {
          "base_uri": "https://localhost:8080/"
        },
        "id": "HZdfDtlYwufB",
        "outputId": "271d6953-f4ac-4d64-c45f-f13165c0fa47"
      },
      "execution_count": null,
      "outputs": [
        {
          "output_type": "stream",
          "name": "stdout",
          "text": [
            "Train accuracy: 0.6215, Test accuracy: 0.5521\n"
          ]
        }
      ]
    },
    {
      "cell_type": "code",
      "source": [
        "vocabulary = {y: x for x, y in vocab.items()}"
      ],
      "metadata": {
        "id": "bDq95uETDYti"
      },
      "execution_count": null,
      "outputs": []
    },
    {
      "cell_type": "code",
      "source": [
        "import time"
      ],
      "metadata": {
        "id": "GUAAH3gqEOju"
      },
      "execution_count": null,
      "outputs": []
    },
    {
      "cell_type": "code",
      "source": [
        "tekst = text[500000:500100]\n",
        "tekst='FK Željezničar je uoči sjednice obavijestio medije da'\n",
        "#tekst = '''Apsolutni junak Zmajeva večeras je bio golman Nikola Vasilj, koji je sa pet izvanrednih intervencija sačuvao svoju mrežu netaknutom, pa je najzaslužniji za osvojeni bod našeg nacionalnog tima.#\n",
        "#Od početka utakmice inicijativu je imala selekcija Mađarske, ali ipak se dugo čekalo na prava uzbuđenja jer smo gledali uspavanku na terenu.'''\n",
        "for i in range(50):\n",
        "  data = tokenizer(tekst[-100:])\n",
        "  data = data.reshape(1,-1)\n",
        "  data = data.to(device)\n",
        "  outputs = model(data)\n",
        "  out = torch.argmax(outputs,1)\n",
        "  new_letter = vocabulary[out.cpu().numpy()[0]]\n",
        "  tekst = tekst+new_letter\n",
        "  print(tekst)\n",
        "  time.sleep(0.5)\n",
        "  print('---------------------------------------------------')\n",
        "#print(tekst)"
      ],
      "metadata": {
        "colab": {
          "base_uri": "https://localhost:8080/"
        },
        "id": "2Y5ZT9mN9945",
        "outputId": "7acf19f7-3ce6-4f4f-a628-880021fa99bf"
      },
      "execution_count": null,
      "outputs": [
        {
          "output_type": "stream",
          "name": "stdout",
          "text": [
            "FK Željezničar je uoči sjednice obavijestio medije da \n",
            "---------------------------------------------------\n",
            "FK Željezničar je uoči sjednice obavijestio medije da s\n",
            "---------------------------------------------------\n",
            "FK Željezničar je uoči sjednice obavijestio medije da se\n",
            "---------------------------------------------------\n",
            "FK Željezničar je uoči sjednice obavijestio medije da se \n",
            "---------------------------------------------------\n",
            "FK Željezničar je uoči sjednice obavijestio medije da se n\n",
            "---------------------------------------------------\n",
            "FK Željezničar je uoči sjednice obavijestio medije da se na\n",
            "---------------------------------------------------\n",
            "FK Željezničar je uoči sjednice obavijestio medije da se nad\n",
            "---------------------------------------------------\n",
            "FK Željezničar je uoči sjednice obavijestio medije da se nada\n",
            "---------------------------------------------------\n",
            "FK Željezničar je uoči sjednice obavijestio medije da se nada \n",
            "---------------------------------------------------\n",
            "FK Željezničar je uoči sjednice obavijestio medije da se nada d\n",
            "---------------------------------------------------\n",
            "FK Željezničar je uoči sjednice obavijestio medije da se nada da\n",
            "---------------------------------------------------\n",
            "FK Željezničar je uoči sjednice obavijestio medije da se nada da \n",
            "---------------------------------------------------\n",
            "FK Željezničar je uoči sjednice obavijestio medije da se nada da j\n",
            "---------------------------------------------------\n",
            "FK Željezničar je uoči sjednice obavijestio medije da se nada da je\n",
            "---------------------------------------------------\n",
            "FK Željezničar je uoči sjednice obavijestio medije da se nada da je \n",
            "---------------------------------------------------\n",
            "FK Željezničar je uoči sjednice obavijestio medije da se nada da je n\n",
            "---------------------------------------------------\n",
            "FK Željezničar je uoči sjednice obavijestio medije da se nada da je na\n",
            "---------------------------------------------------\n",
            "FK Željezničar je uoči sjednice obavijestio medije da se nada da je na \n",
            "---------------------------------------------------\n",
            "FK Željezničar je uoči sjednice obavijestio medije da se nada da je na s\n",
            "---------------------------------------------------\n",
            "FK Željezničar je uoči sjednice obavijestio medije da se nada da je na sv\n",
            "---------------------------------------------------\n",
            "FK Željezničar je uoči sjednice obavijestio medije da se nada da je na svo\n",
            "---------------------------------------------------\n",
            "FK Željezničar je uoči sjednice obavijestio medije da se nada da je na svom\n",
            "---------------------------------------------------\n",
            "FK Željezničar je uoči sjednice obavijestio medije da se nada da je na svom \n",
            "---------------------------------------------------\n",
            "FK Željezničar je uoči sjednice obavijestio medije da se nada da je na svom p\n",
            "---------------------------------------------------\n",
            "FK Željezničar je uoči sjednice obavijestio medije da se nada da je na svom pr\n",
            "---------------------------------------------------\n",
            "FK Željezničar je uoči sjednice obavijestio medije da se nada da je na svom pro\n",
            "---------------------------------------------------\n",
            "FK Željezničar je uoči sjednice obavijestio medije da se nada da je na svom prob\n",
            "---------------------------------------------------\n",
            "FK Željezničar je uoči sjednice obavijestio medije da se nada da je na svom probl\n",
            "---------------------------------------------------\n",
            "FK Željezničar je uoči sjednice obavijestio medije da se nada da je na svom proble\n",
            "---------------------------------------------------\n",
            "FK Željezničar je uoči sjednice obavijestio medije da se nada da je na svom problem\n",
            "---------------------------------------------------\n",
            "FK Željezničar je uoči sjednice obavijestio medije da se nada da je na svom problemu\n",
            "---------------------------------------------------\n",
            "FK Željezničar je uoči sjednice obavijestio medije da se nada da je na svom problemu \n",
            "---------------------------------------------------\n",
            "FK Željezničar je uoči sjednice obavijestio medije da se nada da je na svom problemu n\n",
            "---------------------------------------------------\n",
            "FK Željezničar je uoči sjednice obavijestio medije da se nada da je na svom problemu na\n",
            "---------------------------------------------------\n",
            "FK Željezničar je uoči sjednice obavijestio medije da se nada da je na svom problemu na \n",
            "---------------------------------------------------\n",
            "FK Željezničar je uoči sjednice obavijestio medije da se nada da je na svom problemu na s\n",
            "---------------------------------------------------\n",
            "FK Željezničar je uoči sjednice obavijestio medije da se nada da je na svom problemu na sv\n",
            "---------------------------------------------------\n",
            "FK Željezničar je uoči sjednice obavijestio medije da se nada da je na svom problemu na svo\n",
            "---------------------------------------------------\n",
            "FK Željezničar je uoči sjednice obavijestio medije da se nada da je na svom problemu na svom\n",
            "---------------------------------------------------\n",
            "FK Željezničar je uoči sjednice obavijestio medije da se nada da je na svom problemu na svom \n",
            "---------------------------------------------------\n",
            "FK Željezničar je uoči sjednice obavijestio medije da se nada da je na svom problemu na svom p\n",
            "---------------------------------------------------\n",
            "FK Željezničar je uoči sjednice obavijestio medije da se nada da je na svom problemu na svom pr\n",
            "---------------------------------------------------\n",
            "FK Željezničar je uoči sjednice obavijestio medije da se nada da je na svom problemu na svom pro\n",
            "---------------------------------------------------\n",
            "FK Željezničar je uoči sjednice obavijestio medije da se nada da je na svom problemu na svom prob\n",
            "---------------------------------------------------\n",
            "FK Željezničar je uoči sjednice obavijestio medije da se nada da je na svom problemu na svom probl\n",
            "---------------------------------------------------\n",
            "FK Željezničar je uoči sjednice obavijestio medije da se nada da je na svom problemu na svom proble\n",
            "---------------------------------------------------\n",
            "FK Željezničar je uoči sjednice obavijestio medije da se nada da je na svom problemu na svom problem\n",
            "---------------------------------------------------\n",
            "FK Željezničar je uoči sjednice obavijestio medije da se nada da je na svom problemu na svom problemu\n",
            "---------------------------------------------------\n",
            "FK Željezničar je uoči sjednice obavijestio medije da se nada da je na svom problemu na svom problemu \n",
            "---------------------------------------------------\n",
            "FK Željezničar je uoči sjednice obavijestio medije da se nada da je na svom problemu na svom problemu n\n",
            "---------------------------------------------------\n"
          ]
        }
      ]
    },
    {
      "cell_type": "code",
      "source": [
        "def next_char(text, temperature=1):\n",
        "    # Predict using the model (assuming text is already processed into the right tensor format)\n",
        "    with torch.no_grad():\n",
        "      data = tokenizer(text)\n",
        "      data = data.reshape(1,-1)\n",
        "      data = data.to(device)\n",
        "      logits = model(data)  # Replace with proper text input processing\n",
        "\n",
        "    # Get the logits for the last predicted character\n",
        "    #logits = y_proba[:, -1, :]  # Assuming y_proba has shape [batch_size, seq_len, vocab_size]\n",
        "\n",
        "    # Rescale logits using temperature\n",
        "    rescaled_logits = logits / temperature\n",
        "\n",
        "    # Apply softmax to get probabilities and then sample from the categorical distribution\n",
        "    probabilities = F.softmax(rescaled_logits, dim=-1)\n",
        "    char_id = torch.multinomial(probabilities, num_samples=1).item()\n",
        "\n",
        "    # Get the vocabulary and return the corresponding character\n",
        "    return vocabulary[char_id]"
      ],
      "metadata": {
        "id": "47wRFrhPAhy_"
      },
      "execution_count": null,
      "outputs": []
    },
    {
      "cell_type": "code",
      "source": [
        "def extend_text(text, n_chars=100, temperature=1):\n",
        "    for _ in range(n_chars):\n",
        "        text += next_char(text, temperature)\n",
        "    return text"
      ],
      "metadata": {
        "id": "bN0xodgUVbVr"
      },
      "execution_count": null,
      "outputs": []
    },
    {
      "cell_type": "code",
      "source": [
        "tekst = text[500000:500100]\n",
        "\n",
        "print(extend_text(tekst, temperature=1))"
      ],
      "metadata": {
        "colab": {
          "base_uri": "https://localhost:8080/"
        },
        "id": "1G5tLomVVcLs",
        "outputId": "6e1053d8-f83a-4b09-9982-c0a218f4f53f"
      },
      "execution_count": null,
      "outputs": [
        {
          "output_type": "stream",
          "name": "stdout",
          "text": [
            "z vjenčanog prstena te je na taj način potvrdila da je vijest o razvodu tačna. ona je u aprilu bila u zajednici. tarocinov materijalna fodica (društvo i gonky ne svaki 10 mjesta ispred svog nevjetove \n"
          ]
        }
      ]
    },
    {
      "cell_type": "code",
      "source": [
        "tekat=\"\"\"Ali, želja Ukrajine za članstvom u EU posebno je stvorila opipljiv strah na zapadnom Balkanu da će biti ostavljena po strani. Srbija ne želi da ima ništa sa NATO-om, a njen blizak odnos sa Moskvom zakomplikovao je nastojanja Beograda za ulazak u EU, još više od ruske invazije velikih razmjera na Ukrajinu.\n",
        "\n",
        "Da nije bilo invazije na Ukrajinu, pristupni pregovori sa Albanijom i Sjevernom Makedonijom zasigurno bi zaglavili, a Bosna i Hercegovina ne bi bila priznata kao kandidat za EU. Možda se i EU ne bi složila oko budžeta za svoj novi plan rasta od šest milijardi eura za Zapadni Balkan. Plan uslovljava evropska ulaganja reformama na Balkanu, ali ako se ostvari njegov puni potencijal, zemlje u regionu mogle bi dobiti po glavi stanovnika skoro onoliko nov\"\"\"\n",
        "print(extend_text(tekat, temperature=0.5))"
      ],
      "metadata": {
        "colab": {
          "base_uri": "https://localhost:8080/"
        },
        "id": "ORwbqV7cVg0F",
        "outputId": "05b0de28-0718-4ee4-8b84-fc0176781fcb"
      },
      "execution_count": null,
      "outputs": [
        {
          "output_type": "stream",
          "name": "stdout",
          "text": [
            "Ali, želja Ukrajine za članstvom u EU posebno je stvorila opipljiv strah na zapadnom Balkanu da će biti ostavljena po strani. Srbija ne želi da ima ništa sa NATO-om, a njen blizak odnos sa Moskvom zakomplikovao je nastojanja Beograda za ulazak u EU, još više od ruske invazije velikih razmjera na Ukrajinu.\n",
            "\n",
            "Da nije bilo invazije na Ukrajinu, pristupni pregovori sa Albanijom i Sjevernom Makedonijom zasigurno bi zaglavili, a Bosna i Hercegovina ne bi bila priznata kao kandidat za EU. Možda se i EU ne bi složila oko budžeta za svoj novi plan rasta od šest milijardi eura za Zapadni Balkan. Plan uslovljava evropska ulaganja reformama na Balkanu, ali ako se ostvari njegov puni potencijal, zemlje u regionu mogle bi dobiti po glavi stanovnika skoro onoliko novi dan provjere je i dobio je potpis u karakteru, a nakon što je na veliki prijenos i naših organizac\n"
          ]
        }
      ]
    },
    {
      "cell_type": "code",
      "source": [],
      "metadata": {
        "id": "qRZYp5TtVk5_"
      },
      "execution_count": null,
      "outputs": []
    }
  ]
}